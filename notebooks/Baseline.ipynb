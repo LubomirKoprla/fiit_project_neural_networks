{
 "cells": [
  {
   "cell_type": "code",
   "execution_count": 1,
   "metadata": {
    "scrolled": false
   },
   "outputs": [],
   "source": [
    "import pandas as pd\n",
    "import os\n",
    "import matplotlib\n",
    "import seaborn as sns\n",
    "import numpy as np\n",
    "\n",
    "import os\n",
    "import sys\n",
    "nb_dir = os.path.split(os.getcwd())[0]\n",
    "if nb_dir not in sys.path:\n",
    "    sys.path.append(nb_dir)\n",
    "    \n",
    "from src.data.preprocessing import *\n",
    "from src.data.load_data import *"
   ]
  },
  {
   "cell_type": "markdown",
   "metadata": {},
   "source": [
    "## Data preprocessing"
   ]
  },
  {
   "cell_type": "code",
   "execution_count": 2,
   "metadata": {},
   "outputs": [],
   "source": [
    "events = load_events()"
   ]
  },
  {
   "cell_type": "code",
   "execution_count": 3,
   "metadata": {},
   "outputs": [],
   "source": [
    "data_x,data_y = preprocessing(events,\"visitorid\",\"itemid\")"
   ]
  },
  {
   "cell_type": "code",
   "execution_count": 4,
   "metadata": {},
   "outputs": [],
   "source": [
    "train_x,test_x,train_y,test_y = data_split(data_x,data_y)"
   ]
  },
  {
   "cell_type": "markdown",
   "metadata": {},
   "source": [
    "### Use limited amount of data for first experiments and debugging"
   ]
  },
  {
   "cell_type": "markdown",
   "metadata": {},
   "source": [
    "#### train/test 2000/500"
   ]
  },
  {
   "cell_type": "code",
   "execution_count": 5,
   "metadata": {},
   "outputs": [],
   "source": [
    "train_x = train_x[:2000]"
   ]
  },
  {
   "cell_type": "code",
   "execution_count": 6,
   "metadata": {},
   "outputs": [],
   "source": [
    "train_y = np.asarray(train_y[:2000])"
   ]
  },
  {
   "cell_type": "code",
   "execution_count": 7,
   "metadata": {},
   "outputs": [],
   "source": [
    "test_x = test_x[:500]"
   ]
  },
  {
   "cell_type": "code",
   "execution_count": 8,
   "metadata": {},
   "outputs": [],
   "source": [
    "test_y = np.asarray(test_y[:500])"
   ]
  },
  {
   "cell_type": "code",
   "execution_count": 9,
   "metadata": {},
   "outputs": [
    {
     "data": {
      "text/plain": [
       "(2000, 100)"
      ]
     },
     "execution_count": 9,
     "metadata": {},
     "output_type": "execute_result"
    }
   ],
   "source": [
    "train_x.shape"
   ]
  },
  {
   "cell_type": "code",
   "execution_count": 10,
   "metadata": {},
   "outputs": [
    {
     "data": {
      "text/plain": [
       "(500, 100)"
      ]
     },
     "execution_count": 10,
     "metadata": {},
     "output_type": "execute_result"
    }
   ],
   "source": [
    "test_x.shape"
   ]
  },
  {
   "cell_type": "code",
   "execution_count": 11,
   "metadata": {},
   "outputs": [
    {
     "data": {
      "text/plain": [
       "(2000, 84594)"
      ]
     },
     "execution_count": 11,
     "metadata": {},
     "output_type": "execute_result"
    }
   ],
   "source": [
    "train_y.shape"
   ]
  },
  {
   "cell_type": "code",
   "execution_count": 12,
   "metadata": {},
   "outputs": [
    {
     "data": {
      "text/plain": [
       "(500, 84594)"
      ]
     },
     "execution_count": 12,
     "metadata": {},
     "output_type": "execute_result"
    }
   ],
   "source": [
    "test_y.shape"
   ]
  },
  {
   "cell_type": "markdown",
   "metadata": {},
   "source": [
    "#### Models training"
   ]
  },
  {
   "cell_type": "code",
   "execution_count": 13,
   "metadata": {},
   "outputs": [
    {
     "name": "stderr",
     "output_type": "stream",
     "text": [
      "Using TensorFlow backend.\n"
     ]
    }
   ],
   "source": [
    "import keras\n",
    "from src.models import model"
   ]
  },
  {
   "cell_type": "code",
   "execution_count": 14,
   "metadata": {},
   "outputs": [],
   "source": [
    "mdl = model.LSTMrecommender(\n",
    "    emb_input_dim = 1000,\n",
    "    emb_output_dim = 200,\n",
    "    lstm_units = 64,\n",
    "    dense_output_dim = train_y.shape[1],\n",
    "    dense_activation = 'relu'\n",
    ")"
   ]
  },
  {
   "cell_type": "code",
   "execution_count": 15,
   "metadata": {},
   "outputs": [],
   "source": [
    "mdl.compile(optimizer='adam',\n",
    "    loss='binary_crossentropy',\n",
    "    metrics=[\n",
    "        keras.metrics.Precision(top_k=5)\n",
    "    ]\n",
    ")"
   ]
  },
  {
   "cell_type": "code",
   "execution_count": 16,
   "metadata": {},
   "outputs": [
    {
     "data": {
      "text/plain": [
       "(32, 84594)"
      ]
     },
     "execution_count": 16,
     "metadata": {},
     "output_type": "execute_result"
    }
   ],
   "source": [
    "test = mdl.predict(test_x[:32])\n",
    "test.shape"
   ]
  },
  {
   "cell_type": "code",
   "execution_count": 17,
   "metadata": {
    "scrolled": false
   },
   "outputs": [
    {
     "name": "stderr",
     "output_type": "stream",
     "text": [
      "C:\\Users\\Patrik\\Anaconda3\\lib\\site-packages\\tensorflow_core\\python\\framework\\indexed_slices.py:424: UserWarning: Converting sparse IndexedSlices to a dense Tensor of unknown shape. This may consume a large amount of memory.\n",
      "  \"Converting sparse IndexedSlices to a dense Tensor of unknown shape. \"\n"
     ]
    },
    {
     "name": "stdout",
     "output_type": "stream",
     "text": [
      "Train on 2000 samples, validate on 500 samples\n",
      "Epoch 1/100\n",
      "2000/2000 [==============================] - 15s 8ms/step - loss: 1.8230e-04 - precision_1: 0.0000e+00 - val_loss: 1.8566e-04 - val_precision_1: 0.0000e+00\n",
      "Epoch 2/100\n",
      "2000/2000 [==============================] - 14s 7ms/step - loss: 1.8037e-04 - precision_1: 5.0000e-04 - val_loss: 1.8711e-04 - val_precision_1: 0.0000e+00\n",
      "Epoch 3/100\n",
      "2000/2000 [==============================] - 14s 7ms/step - loss: 1.8117e-04 - precision_1: 8.0000e-04 - val_loss: 1.8747e-04 - val_precision_1: 0.0000e+00\n",
      "Epoch 4/100\n",
      "2000/2000 [==============================] - 14s 7ms/step - loss: 1.8127e-04 - precision_1: 9.0000e-04 - val_loss: 1.8729e-04 - val_precision_1: 0.0000e+00\n",
      "Epoch 5/100\n",
      "2000/2000 [==============================] - 13s 7ms/step - loss: 1.8101e-04 - precision_1: 9.0000e-04 - val_loss: 1.8684e-04 - val_precision_1: 0.0000e+00\n",
      "Epoch 6/100\n",
      "2000/2000 [==============================] - 14s 7ms/step - loss: 1.8063e-04 - precision_1: 7.0000e-04 - val_loss: 1.8628e-04 - val_precision_1: 0.0000e+00\n",
      "Epoch 7/100\n",
      "2000/2000 [==============================] - 14s 7ms/step - loss: 1.8011e-04 - precision_1: 7.0000e-04 - val_loss: 1.8556e-04 - val_precision_1: 0.0000e+00\n",
      "Epoch 8/100\n",
      "2000/2000 [==============================] - 14s 7ms/step - loss: 1.7971e-04 - precision_1: 6.0000e-04 - val_loss: 1.8479e-04 - val_precision_1: 0.0000e+00\n",
      "Epoch 9/100\n",
      "2000/2000 [==============================] - 14s 7ms/step - loss: 1.7924e-04 - precision_1: 6.0000e-04 - val_loss: 1.8418e-04 - val_precision_1: 0.0000e+00\n",
      "Epoch 10/100\n",
      "2000/2000 [==============================] - 14s 7ms/step - loss: 1.7931e-04 - precision_1: 6.0000e-04 - val_loss: 1.8438e-04 - val_precision_1: 0.0000e+00\n",
      "Epoch 11/100\n",
      "2000/2000 [==============================] - 14s 7ms/step - loss: 1.7941e-04 - precision_1: 7.0000e-04 - val_loss: 1.8482e-04 - val_precision_1: 0.0000e+00\n",
      "Epoch 12/100\n",
      "2000/2000 [==============================] - 13s 7ms/step - loss: 1.7947e-04 - precision_1: 7.0000e-04 - val_loss: 1.8457e-04 - val_precision_1: 0.0000e+00\n",
      "Epoch 13/100\n",
      "2000/2000 [==============================] - 13s 7ms/step - loss: 1.7924e-04 - precision_1: 5.0000e-04 - val_loss: 1.8415e-04 - val_precision_1: 0.0000e+00\n",
      "Epoch 14/100\n",
      "2000/2000 [==============================] - 14s 7ms/step - loss: 1.7919e-04 - precision_1: 5.0000e-04 - val_loss: 1.8421e-04 - val_precision_1: 0.0000e+00\n",
      "Epoch 15/100\n",
      "2000/2000 [==============================] - 14s 7ms/step - loss: 1.7941e-04 - precision_1: 4.0000e-04 - val_loss: 1.8496e-04 - val_precision_1: 0.0000e+00\n",
      "Epoch 16/100\n",
      "2000/2000 [==============================] - 13s 7ms/step - loss: 1.7962e-04 - precision_1: 5.0000e-04 - val_loss: 1.8504e-04 - val_precision_1: 0.0000e+00\n",
      "Epoch 17/100\n",
      "2000/2000 [==============================] - 14s 7ms/step - loss: 1.7954e-04 - precision_1: 6.0000e-04 - val_loss: 1.8468e-04 - val_precision_1: 0.0000e+00\n",
      "Epoch 18/100\n",
      "2000/2000 [==============================] - 14s 7ms/step - loss: 1.7946e-04 - precision_1: 5.0000e-04 - val_loss: 1.8420e-04 - val_precision_1: 0.0000e+00\n",
      "Epoch 19/100\n",
      "2000/2000 [==============================] - 13s 7ms/step - loss: 1.7962e-04 - precision_1: 5.0000e-04 - val_loss: 1.8436e-04 - val_precision_1: 0.0000e+00\n",
      "Epoch 20/100\n",
      "2000/2000 [==============================] - 14s 7ms/step - loss: 1.7965e-04 - precision_1: 4.0000e-04 - val_loss: 1.8442e-04 - val_precision_1: 0.0000e+00\n",
      "Epoch 21/100\n",
      "2000/2000 [==============================] - 14s 7ms/step - loss: 1.7979e-04 - precision_1: 5.0000e-04 - val_loss: 1.8448e-04 - val_precision_1: 4.0000e-04\n",
      "Epoch 22/100\n",
      "2000/2000 [==============================] - 14s 7ms/step - loss: 1.7975e-04 - precision_1: 5.0000e-04 - val_loss: 1.8413e-04 - val_precision_1: 4.0000e-04\n",
      "Epoch 23/100\n",
      "2000/2000 [==============================] - 14s 7ms/step - loss: 1.7970e-04 - precision_1: 6.0000e-04 - val_loss: 1.8416e-04 - val_precision_1: 4.0000e-04\n",
      "Epoch 24/100\n",
      "2000/2000 [==============================] - 14s 7ms/step - loss: 1.7977e-04 - precision_1: 6.0000e-04 - val_loss: 1.8458e-04 - val_precision_1: 4.0000e-04\n",
      "Epoch 25/100\n",
      "2000/2000 [==============================] - 13s 7ms/step - loss: 1.7988e-04 - precision_1: 8.0000e-04 - val_loss: 1.8448e-04 - val_precision_1: 4.0000e-04\n",
      "Epoch 26/100\n",
      "2000/2000 [==============================] - 14s 7ms/step - loss: 1.8003e-04 - precision_1: 7.0000e-04 - val_loss: 1.8444e-04 - val_precision_1: 4.0000e-04\n",
      "Epoch 27/100\n",
      "2000/2000 [==============================] - 13s 7ms/step - loss: 1.7998e-04 - precision_1: 6.0000e-04 - val_loss: 1.8440e-04 - val_precision_1: 4.0000e-04\n",
      "Epoch 28/100\n",
      "2000/2000 [==============================] - 13s 7ms/step - loss: 1.7998e-04 - precision_1: 6.0000e-04 - val_loss: 1.8439e-04 - val_precision_1: 4.0000e-04\n",
      "Epoch 29/100\n",
      "2000/2000 [==============================] - 14s 7ms/step - loss: 1.7993e-04 - precision_1: 6.0000e-04 - val_loss: 1.8414e-04 - val_precision_1: 4.0000e-04\n",
      "Epoch 30/100\n",
      "2000/2000 [==============================] - 14s 7ms/step - loss: 1.7985e-04 - precision_1: 6.0000e-04 - val_loss: 1.8397e-04 - val_precision_1: 4.0000e-04\n",
      "Epoch 31/100\n",
      "2000/2000 [==============================] - 14s 7ms/step - loss: 1.7971e-04 - precision_1: 6.0000e-04 - val_loss: 1.8401e-04 - val_precision_1: 4.0000e-04\n",
      "Epoch 32/100\n",
      "2000/2000 [==============================] - 14s 7ms/step - loss: 1.7957e-04 - precision_1: 6.0000e-04 - val_loss: 1.8378e-04 - val_precision_1: 4.0000e-04\n",
      "Epoch 33/100\n",
      "2000/2000 [==============================] - 13s 7ms/step - loss: 1.7949e-04 - precision_1: 5.0000e-04 - val_loss: 1.8371e-04 - val_precision_1: 4.0000e-04\n",
      "Epoch 34/100\n",
      "2000/2000 [==============================] - 13s 7ms/step - loss: 1.7946e-04 - precision_1: 5.0000e-04 - val_loss: 1.8362e-04 - val_precision_1: 4.0000e-04\n",
      "Epoch 35/100\n",
      "2000/2000 [==============================] - 13s 7ms/step - loss: 1.7949e-04 - precision_1: 5.0000e-04 - val_loss: 1.8353e-04 - val_precision_1: 4.0000e-04\n",
      "Epoch 36/100\n",
      "2000/2000 [==============================] - 13s 7ms/step - loss: 1.7948e-04 - precision_1: 5.0000e-04 - val_loss: 1.8356e-04 - val_precision_1: 4.0000e-04\n",
      "Epoch 37/100\n",
      "2000/2000 [==============================] - 13s 7ms/step - loss: 1.7942e-04 - precision_1: 5.0000e-04 - val_loss: 1.8351e-04 - val_precision_1: 4.0000e-04\n",
      "Epoch 38/100\n",
      "2000/2000 [==============================] - 14s 7ms/step - loss: 1.7936e-04 - precision_1: 6.0000e-04 - val_loss: 1.8347e-04 - val_precision_1: 4.0000e-04\n",
      "Epoch 39/100\n",
      "2000/2000 [==============================] - 14s 7ms/step - loss: 1.7935e-04 - precision_1: 5.0000e-04 - val_loss: 1.8328e-04 - val_precision_1: 4.0000e-04\n",
      "Epoch 40/100\n",
      "2000/2000 [==============================] - 13s 7ms/step - loss: 1.7928e-04 - precision_1: 5.0000e-04 - val_loss: 1.8329e-04 - val_precision_1: 4.0000e-04\n",
      "Epoch 41/100\n",
      "2000/2000 [==============================] - 13s 7ms/step - loss: 1.7922e-04 - precision_1: 5.0000e-04 - val_loss: 1.8323e-04 - val_precision_1: 4.0000e-04\n",
      "Epoch 42/100\n",
      "2000/2000 [==============================] - 13s 7ms/step - loss: 1.7924e-04 - precision_1: 5.0000e-04 - val_loss: 1.8324e-04 - val_precision_1: 4.0000e-04\n",
      "Epoch 43/100\n",
      "2000/2000 [==============================] - 13s 7ms/step - loss: 1.7922e-04 - precision_1: 6.0000e-04 - val_loss: 1.8318e-04 - val_precision_1: 4.0000e-04\n",
      "Epoch 44/100\n",
      "2000/2000 [==============================] - 13s 7ms/step - loss: 1.7921e-04 - precision_1: 5.0000e-04 - val_loss: 1.8321e-04 - val_precision_1: 4.0000e-04\n",
      "Epoch 45/100\n",
      "2000/2000 [==============================] - 13s 7ms/step - loss: 1.7922e-04 - precision_1: 6.0000e-04 - val_loss: 1.8311e-04 - val_precision_1: 4.0000e-04\n",
      "Epoch 46/100\n",
      "2000/2000 [==============================] - 13s 7ms/step - loss: 1.7918e-04 - precision_1: 5.0000e-04 - val_loss: 1.8315e-04 - val_precision_1: 4.0000e-04\n",
      "Epoch 47/100\n",
      "2000/2000 [==============================] - 13s 7ms/step - loss: 1.7918e-04 - precision_1: 5.0000e-04 - val_loss: 1.8313e-04 - val_precision_1: 4.0000e-04\n",
      "Epoch 48/100\n",
      "2000/2000 [==============================] - 13s 7ms/step - loss: 1.7915e-04 - precision_1: 6.0000e-04 - val_loss: 1.8317e-04 - val_precision_1: 4.0000e-04\n",
      "Epoch 49/100\n"
     ]
    },
    {
     "name": "stdout",
     "output_type": "stream",
     "text": [
      "2000/2000 [==============================] - 13s 7ms/step - loss: 1.7917e-04 - precision_1: 5.0000e-04 - val_loss: 1.8313e-04 - val_precision_1: 4.0000e-04\n",
      "Epoch 50/100\n",
      "2000/2000 [==============================] - 13s 7ms/step - loss: 1.7915e-04 - precision_1: 5.0000e-04 - val_loss: 1.8314e-04 - val_precision_1: 4.0000e-04\n",
      "Epoch 51/100\n",
      "2000/2000 [==============================] - 13s 7ms/step - loss: 1.7918e-04 - precision_1: 8.0000e-04 - val_loss: 1.8313e-04 - val_precision_1: 4.0000e-04\n",
      "Epoch 52/100\n",
      "2000/2000 [==============================] - 13s 7ms/step - loss: 1.7920e-04 - precision_1: 6.0000e-04 - val_loss: 1.8316e-04 - val_precision_1: 4.0000e-04\n",
      "Epoch 53/100\n",
      "2000/2000 [==============================] - 13s 7ms/step - loss: 1.7927e-04 - precision_1: 5.0000e-04 - val_loss: 1.8328e-04 - val_precision_1: 4.0000e-04\n",
      "Epoch 54/100\n",
      "2000/2000 [==============================] - 13s 7ms/step - loss: 1.7924e-04 - precision_1: 6.0000e-04 - val_loss: 1.8313e-04 - val_precision_1: 4.0000e-04\n",
      "Epoch 55/100\n",
      "2000/2000 [==============================] - 13s 7ms/step - loss: 1.7930e-04 - precision_1: 8.0000e-04 - val_loss: 1.8315e-04 - val_precision_1: 4.0000e-04\n",
      "Epoch 56/100\n",
      "2000/2000 [==============================] - 13s 7ms/step - loss: 1.7925e-04 - precision_1: 9.0000e-04 - val_loss: 1.8318e-04 - val_precision_1: 4.0000e-04\n",
      "Epoch 57/100\n",
      "2000/2000 [==============================] - 13s 7ms/step - loss: 1.7923e-04 - precision_1: 0.0011 - val_loss: 1.8311e-04 - val_precision_1: 4.0000e-04\n",
      "Epoch 58/100\n",
      "2000/2000 [==============================] - 13s 7ms/step - loss: 1.7919e-04 - precision_1: 0.0011 - val_loss: 1.8306e-04 - val_precision_1: 4.0000e-04\n",
      "Epoch 59/100\n",
      "2000/2000 [==============================] - 13s 7ms/step - loss: 1.7925e-04 - precision_1: 0.0013 - val_loss: 1.8309e-04 - val_precision_1: 4.0000e-04\n",
      "Epoch 60/100\n",
      "2000/2000 [==============================] - 13s 7ms/step - loss: 1.7924e-04 - precision_1: 8.0000e-04 - val_loss: 1.8303e-04 - val_precision_1: 4.0000e-04\n",
      "Epoch 61/100\n",
      "2000/2000 [==============================] - 14s 7ms/step - loss: 1.7926e-04 - precision_1: 5.0000e-04 - val_loss: 1.8312e-04 - val_precision_1: 4.0000e-04\n",
      "Epoch 62/100\n",
      "2000/2000 [==============================] - 14s 7ms/step - loss: 1.7923e-04 - precision_1: 5.0000e-04 - val_loss: 1.8312e-04 - val_precision_1: 4.0000e-04\n",
      "Epoch 63/100\n",
      "2000/2000 [==============================] - 14s 7ms/step - loss: 1.7928e-04 - precision_1: 5.0000e-04 - val_loss: 1.8311e-04 - val_precision_1: 4.0000e-04\n",
      "Epoch 64/100\n",
      "2000/2000 [==============================] - 14s 7ms/step - loss: 1.7927e-04 - precision_1: 6.0000e-04 - val_loss: 1.8313e-04 - val_precision_1: 4.0000e-04\n",
      "Epoch 65/100\n",
      "2000/2000 [==============================] - 13s 7ms/step - loss: 1.7926e-04 - precision_1: 6.0000e-04 - val_loss: 1.8311e-04 - val_precision_1: 4.0000e-04\n",
      "Epoch 66/100\n",
      "2000/2000 [==============================] - 13s 7ms/step - loss: 1.7924e-04 - precision_1: 6.0000e-04 - val_loss: 1.8307e-04 - val_precision_1: 4.0000e-04\n",
      "Epoch 67/100\n",
      "2000/2000 [==============================] - 13s 7ms/step - loss: 1.7921e-04 - precision_1: 6.0000e-04 - val_loss: 1.8306e-04 - val_precision_1: 4.0000e-04\n",
      "Epoch 68/100\n",
      "2000/2000 [==============================] - 13s 7ms/step - loss: 1.7917e-04 - precision_1: 8.0000e-04 - val_loss: 1.8303e-04 - val_precision_1: 4.0000e-04\n",
      "Epoch 69/100\n",
      "2000/2000 [==============================] - 13s 7ms/step - loss: 1.7915e-04 - precision_1: 9.0000e-04 - val_loss: 1.8300e-04 - val_precision_1: 4.0000e-04\n",
      "Epoch 70/100\n",
      "2000/2000 [==============================] - 13s 7ms/step - loss: 1.7913e-04 - precision_1: 9.0000e-04 - val_loss: 1.8297e-04 - val_precision_1: 4.0000e-04\n",
      "Epoch 71/100\n",
      "2000/2000 [==============================] - 13s 7ms/step - loss: 1.7910e-04 - precision_1: 0.0012 - val_loss: 1.8298e-04 - val_precision_1: 4.0000e-04\n",
      "Epoch 72/100\n",
      "2000/2000 [==============================] - 13s 7ms/step - loss: 1.7908e-04 - precision_1: 0.0011 - val_loss: 1.8296e-04 - val_precision_1: 4.0000e-04\n",
      "Epoch 73/100\n",
      "2000/2000 [==============================] - 13s 7ms/step - loss: 1.7908e-04 - precision_1: 0.0012 - val_loss: 1.8295e-04 - val_precision_1: 4.0000e-04\n",
      "Epoch 74/100\n",
      "2000/2000 [==============================] - 13s 7ms/step - loss: 1.7906e-04 - precision_1: 0.0013 - val_loss: 1.8293e-04 - val_precision_1: 4.0000e-04\n",
      "Epoch 75/100\n",
      "2000/2000 [==============================] - 13s 7ms/step - loss: 1.7906e-04 - precision_1: 0.0011 - val_loss: 1.8291e-04 - val_precision_1: 4.0000e-04\n",
      "Epoch 76/100\n",
      "2000/2000 [==============================] - 13s 7ms/step - loss: 1.7904e-04 - precision_1: 0.0010 - val_loss: 1.8294e-04 - val_precision_1: 4.0000e-04\n",
      "Epoch 77/100\n",
      "2000/2000 [==============================] - 14s 7ms/step - loss: 1.7902e-04 - precision_1: 0.0014 - val_loss: 1.8289e-04 - val_precision_1: 4.0000e-04\n",
      "Epoch 78/100\n",
      "2000/2000 [==============================] - 14s 7ms/step - loss: 1.7899e-04 - precision_1: 0.0014 - val_loss: 1.8287e-04 - val_precision_1: 4.0000e-04\n",
      "Epoch 79/100\n",
      "2000/2000 [==============================] - 13s 7ms/step - loss: 1.7900e-04 - precision_1: 0.0011 - val_loss: 1.8293e-04 - val_precision_1: 4.0000e-04\n",
      "Epoch 80/100\n",
      "2000/2000 [==============================] - 13s 7ms/step - loss: 1.7900e-04 - precision_1: 0.0010 - val_loss: 1.8294e-04 - val_precision_1: 4.0000e-04\n",
      "Epoch 81/100\n",
      "2000/2000 [==============================] - 13s 7ms/step - loss: 1.7901e-04 - precision_1: 0.0010 - val_loss: 1.8296e-04 - val_precision_1: 0.0000e+00\n",
      "Epoch 82/100\n",
      "2000/2000 [==============================] - 13s 7ms/step - loss: 1.7904e-04 - precision_1: 0.0010 - val_loss: 1.8291e-04 - val_precision_1: 0.0000e+00\n",
      "Epoch 83/100\n",
      "2000/2000 [==============================] - 13s 7ms/step - loss: 1.7901e-04 - precision_1: 0.0010 - val_loss: 1.8289e-04 - val_precision_1: 0.0000e+00\n",
      "Epoch 84/100\n",
      "2000/2000 [==============================] - 13s 7ms/step - loss: 1.7897e-04 - precision_1: 0.0011 - val_loss: 1.8289e-04 - val_precision_1: 0.0000e+00\n",
      "Epoch 85/100\n",
      "2000/2000 [==============================] - 13s 7ms/step - loss: 1.7967e-04 - precision_1: 8.0000e-04 - val_loss: 1.8410e-04 - val_precision_1: 0.0000e+00\n",
      "Epoch 86/100\n",
      "2000/2000 [==============================] - 13s 7ms/step - loss: 1.8008e-04 - precision_1: 5.0000e-04 - val_loss: 1.8482e-04 - val_precision_1: 0.0000e+00\n",
      "Epoch 87/100\n",
      "2000/2000 [==============================] - 13s 7ms/step - loss: 1.8049e-04 - precision_1: 5.0000e-04 - val_loss: 1.8479e-04 - val_precision_1: 0.0000e+00\n",
      "Epoch 88/100\n",
      "2000/2000 [==============================] - 13s 7ms/step - loss: 1.8041e-04 - precision_1: 5.0000e-04 - val_loss: 1.8466e-04 - val_precision_1: 0.0000e+00\n",
      "Epoch 89/100\n",
      "2000/2000 [==============================] - 13s 7ms/step - loss: 1.8025e-04 - precision_1: 5.0000e-04 - val_loss: 1.8438e-04 - val_precision_1: 0.0000e+00\n",
      "Epoch 90/100\n",
      "2000/2000 [==============================] - 13s 7ms/step - loss: 1.8009e-04 - precision_1: 5.0000e-04 - val_loss: 1.8425e-04 - val_precision_1: 0.0000e+00\n",
      "Epoch 91/100\n",
      "2000/2000 [==============================] - 13s 7ms/step - loss: 1.7998e-04 - precision_1: 5.0000e-04 - val_loss: 1.8409e-04 - val_precision_1: 0.0000e+00\n",
      "Epoch 92/100\n",
      "2000/2000 [==============================] - 13s 7ms/step - loss: 1.7994e-04 - precision_1: 5.0000e-04 - val_loss: 1.8402e-04 - val_precision_1: 0.0000e+00\n",
      "Epoch 93/100\n",
      "2000/2000 [==============================] - 13s 7ms/step - loss: 1.7985e-04 - precision_1: 5.0000e-04 - val_loss: 1.8399e-04 - val_precision_1: 0.0000e+00\n",
      "Epoch 94/100\n",
      "2000/2000 [==============================] - 13s 7ms/step - loss: 1.7982e-04 - precision_1: 5.0000e-04 - val_loss: 1.8404e-04 - val_precision_1: 0.0000e+00\n",
      "Epoch 95/100\n",
      "2000/2000 [==============================] - 13s 7ms/step - loss: 1.7992e-04 - precision_1: 6.0000e-04 - val_loss: 1.8410e-04 - val_precision_1: 0.0000e+00\n",
      "Epoch 96/100\n",
      "2000/2000 [==============================] - 14s 7ms/step - loss: 1.7992e-04 - precision_1: 6.0000e-04 - val_loss: 1.8396e-04 - val_precision_1: 0.0000e+00\n",
      "Epoch 97/100\n",
      "2000/2000 [==============================] - 14s 7ms/step - loss: 1.7982e-04 - precision_1: 5.0000e-04 - val_loss: 1.8386e-04 - val_precision_1: 0.0000e+00\n"
     ]
    },
    {
     "name": "stdout",
     "output_type": "stream",
     "text": [
      "Epoch 98/100\n",
      "2000/2000 [==============================] - 13s 7ms/step - loss: 1.7972e-04 - precision_1: 5.0000e-04 - val_loss: 1.8380e-04 - val_precision_1: 0.0000e+00\n",
      "Epoch 99/100\n",
      "2000/2000 [==============================] - 13s 7ms/step - loss: 1.7964e-04 - precision_1: 7.0000e-04 - val_loss: 1.8367e-04 - val_precision_1: 0.0000e+00\n",
      "Epoch 100/100\n",
      "2000/2000 [==============================] - 13s 7ms/step - loss: 1.7955e-04 - precision_1: 7.0000e-04 - val_loss: 1.8357e-04 - val_precision_1: 0.0000e+00\n"
     ]
    },
    {
     "data": {
      "text/plain": [
       "<keras.callbacks.callbacks.History at 0x213bdf5bf60>"
      ]
     },
     "execution_count": 17,
     "metadata": {},
     "output_type": "execute_result"
    }
   ],
   "source": [
    "callbacks = [\n",
    "    keras.callbacks.TensorBoard(\n",
    "        log_dir=os.path.join('..\\logs', 'v2_binary_cross'),\n",
    "        histogram_freq=1,\n",
    "        profile_batch=0\n",
    "    )\n",
    "]\n",
    "\n",
    "mdl.fit(\n",
    "    x=train_x,\n",
    "    y=train_y,\n",
    "    batch_size=256,\n",
    "    epochs=100,\n",
    "    validation_data=(test_x, test_y),\n",
    "    callbacks = callbacks\n",
    ")"
   ]
  },
  {
   "cell_type": "markdown",
   "metadata": {},
   "source": [
    "#### train/test 100/50"
   ]
  },
  {
   "cell_type": "code",
   "execution_count": 18,
   "metadata": {},
   "outputs": [],
   "source": [
    "train_x = train_x[:100]"
   ]
  },
  {
   "cell_type": "code",
   "execution_count": 19,
   "metadata": {},
   "outputs": [],
   "source": [
    "train_y = np.asarray(train_y[:100])"
   ]
  },
  {
   "cell_type": "code",
   "execution_count": 20,
   "metadata": {},
   "outputs": [],
   "source": [
    "test_x = test_x[:50]"
   ]
  },
  {
   "cell_type": "code",
   "execution_count": 21,
   "metadata": {},
   "outputs": [],
   "source": [
    "test_y = np.asarray(test_y[:50])"
   ]
  },
  {
   "cell_type": "code",
   "execution_count": 22,
   "metadata": {},
   "outputs": [
    {
     "data": {
      "text/plain": [
       "(100, 100)"
      ]
     },
     "execution_count": 22,
     "metadata": {},
     "output_type": "execute_result"
    }
   ],
   "source": [
    "train_x.shape"
   ]
  },
  {
   "cell_type": "code",
   "execution_count": 23,
   "metadata": {},
   "outputs": [
    {
     "data": {
      "text/plain": [
       "(50, 100)"
      ]
     },
     "execution_count": 23,
     "metadata": {},
     "output_type": "execute_result"
    }
   ],
   "source": [
    "test_x.shape"
   ]
  },
  {
   "cell_type": "code",
   "execution_count": 24,
   "metadata": {},
   "outputs": [
    {
     "data": {
      "text/plain": [
       "(100, 84594)"
      ]
     },
     "execution_count": 24,
     "metadata": {},
     "output_type": "execute_result"
    }
   ],
   "source": [
    "train_y.shape"
   ]
  },
  {
   "cell_type": "code",
   "execution_count": 25,
   "metadata": {},
   "outputs": [
    {
     "data": {
      "text/plain": [
       "(50, 84594)"
      ]
     },
     "execution_count": 25,
     "metadata": {},
     "output_type": "execute_result"
    }
   ],
   "source": [
    "test_y.shape"
   ]
  },
  {
   "cell_type": "markdown",
   "metadata": {},
   "source": [
    "#### Model training"
   ]
  },
  {
   "cell_type": "code",
   "execution_count": 81,
   "metadata": {},
   "outputs": [],
   "source": [
    "mdl = model.LSTMrecommender(\n",
    "    emb_input_dim = 1000,\n",
    "    emb_output_dim = 100,\n",
    "    lstm_units = 10,\n",
    "    dense_output_dim = train_y.shape[1],\n",
    "    dense_activation = 'relu'\n",
    ")"
   ]
  },
  {
   "cell_type": "code",
   "execution_count": 82,
   "metadata": {},
   "outputs": [],
   "source": [
    "mdl.compile(optimizer=keras.optimizers.SGD(learning_rate=0.1),\n",
    "    loss='binary_crossentropy',\n",
    "    metrics=[\n",
    "        keras.metrics.Precision(top_k=100)\n",
    "    ]\n",
    ")"
   ]
  },
  {
   "cell_type": "code",
   "execution_count": 83,
   "metadata": {},
   "outputs": [
    {
     "data": {
      "text/plain": [
       "(32, 84594)"
      ]
     },
     "execution_count": 83,
     "metadata": {},
     "output_type": "execute_result"
    }
   ],
   "source": [
    "test = mdl.predict(test_x[:32])\n",
    "test.shape"
   ]
  },
  {
   "cell_type": "code",
   "execution_count": 84,
   "metadata": {
    "scrolled": false
   },
   "outputs": [
    {
     "name": "stderr",
     "output_type": "stream",
     "text": [
      "C:\\Users\\Patrik\\Anaconda3\\lib\\site-packages\\tensorflow_core\\python\\framework\\indexed_slices.py:424: UserWarning: Converting sparse IndexedSlices to a dense Tensor of unknown shape. This may consume a large amount of memory.\n",
      "  \"Converting sparse IndexedSlices to a dense Tensor of unknown shape. \"\n"
     ]
    },
    {
     "name": "stdout",
     "output_type": "stream",
     "text": [
      "Train on 100 samples, validate on 50 samples\n",
      "Epoch 1/20\n",
      "100/100 [==============================] - 3s 35ms/step - loss: 1.8142e-04 - precision_16: 0.0000e+00 - val_loss: 1.8235e-04 - val_precision_16: 0.0000e+00\n",
      "Epoch 2/20\n",
      "100/100 [==============================] - 3s 27ms/step - loss: 1.8093e-04 - precision_16: 3.0000e-04 - val_loss: 1.8235e-04 - val_precision_16: 0.0000e+00\n",
      "Epoch 3/20\n",
      "100/100 [==============================] - 3s 27ms/step - loss: 1.8091e-04 - precision_16: 2.0000e-04 - val_loss: 1.8236e-04 - val_precision_16: 0.0000e+00\n",
      "Epoch 4/20\n",
      "100/100 [==============================] - 3s 26ms/step - loss: 1.8089e-04 - precision_16: 2.0000e-04 - val_loss: 1.8236e-04 - val_precision_16: 0.0000e+00\n",
      "Epoch 5/20\n",
      "100/100 [==============================] - 3s 26ms/step - loss: 1.8087e-04 - precision_16: 2.0000e-04 - val_loss: 1.8236e-04 - val_precision_16: 0.0000e+00\n",
      "Epoch 6/20\n",
      "100/100 [==============================] - 3s 26ms/step - loss: 1.8086e-04 - precision_16: 3.0000e-04 - val_loss: 1.8236e-04 - val_precision_16: 0.0000e+00\n",
      "Epoch 7/20\n",
      "100/100 [==============================] - 3s 29ms/step - loss: 1.7760e-04 - precision_16: 3.0000e-04 - val_loss: 1.7026e-04 - val_precision_16: 0.0000e+00\n",
      "Epoch 8/20\n",
      "100/100 [==============================] - 3s 27ms/step - loss: 1.6163e-04 - precision_16: 0.0018 - val_loss: 1.7538e-04 - val_precision_16: 2.0000e-04\n",
      "Epoch 9/20\n",
      "100/100 [==============================] - 3s 27ms/step - loss: 1.4421e-04 - precision_16: 0.0045 - val_loss: 1.7823e-04 - val_precision_16: 2.0000e-04\n",
      "Epoch 10/20\n",
      "100/100 [==============================] - 3s 27ms/step - loss: 1.4014e-04 - precision_16: 0.0049 - val_loss: 1.8204e-04 - val_precision_16: 2.0000e-04\n",
      "Epoch 11/20\n",
      "100/100 [==============================] - 3s 27ms/step - loss: 1.3283e-04 - precision_16: 0.0055 - val_loss: 1.8753e-04 - val_precision_16: 2.0000e-04\n",
      "Epoch 12/20\n",
      "100/100 [==============================] - 3s 26ms/step - loss: 1.3074e-04 - precision_16: 0.0056 - val_loss: 1.9179e-04 - val_precision_16: 2.0000e-04\n",
      "Epoch 13/20\n",
      "100/100 [==============================] - 3s 28ms/step - loss: 1.3017e-04 - precision_16: 0.0056 - val_loss: 1.9287e-04 - val_precision_16: 2.0000e-04\n",
      "Epoch 14/20\n",
      "100/100 [==============================] - 3s 27ms/step - loss: 1.2998e-04 - precision_16: 0.0056 - val_loss: 1.9373e-04 - val_precision_16: 2.0000e-04\n",
      "Epoch 15/20\n",
      "100/100 [==============================] - 3s 27ms/step - loss: 1.2989e-04 - precision_16: 0.0056 - val_loss: 1.9397e-04 - val_precision_16: 2.0000e-04\n",
      "Epoch 16/20\n",
      "100/100 [==============================] - 3s 27ms/step - loss: 1.2983e-04 - precision_16: 0.0056 - val_loss: 1.9431e-04 - val_precision_16: 2.0000e-04\n",
      "Epoch 17/20\n",
      "100/100 [==============================] - 3s 27ms/step - loss: 1.2979e-04 - precision_16: 0.0056 - val_loss: 1.9431e-04 - val_precision_16: 2.0000e-04\n",
      "Epoch 18/20\n",
      "100/100 [==============================] - 3s 27ms/step - loss: 1.2975e-04 - precision_16: 0.0056 - val_loss: 1.9432e-04 - val_precision_16: 2.0000e-04\n",
      "Epoch 19/20\n",
      "100/100 [==============================] - 3s 27ms/step - loss: 1.2971e-04 - precision_16: 0.0056 - val_loss: 1.9432e-04 - val_precision_16: 2.0000e-04\n",
      "Epoch 20/20\n",
      "100/100 [==============================] - 3s 27ms/step - loss: 1.2967e-04 - precision_16: 0.0056 - val_loss: 1.9433e-04 - val_precision_16: 2.0000e-04\n"
     ]
    },
    {
     "data": {
      "text/plain": [
       "<keras.callbacks.callbacks.History at 0x213e4104f60>"
      ]
     },
     "execution_count": 84,
     "metadata": {},
     "output_type": "execute_result"
    }
   ],
   "source": [
    "callbacks = [\n",
    "    keras.callbacks.TensorBoard(\n",
    "        log_dir=os.path.join('..\\logs', 'v3_binary_cross'),\n",
    "        histogram_freq=1,\n",
    "        profile_batch=0\n",
    "    )\n",
    "]\n",
    "\n",
    "mdl.fit(\n",
    "    x=train_x,\n",
    "    y=train_y,\n",
    "    batch_size=32,\n",
    "    epochs=20,\n",
    "    validation_data=(test_x, test_y),\n",
    "    callbacks = callbacks\n",
    ")"
   ]
  },
  {
   "cell_type": "markdown",
   "metadata": {},
   "source": [
    "As it seems, model is able to learn. However, it is far away from optimal performance."
   ]
  }
 ],
 "metadata": {
  "kernelspec": {
   "display_name": "Python 3",
   "language": "python",
   "name": "python3"
  },
  "language_info": {
   "codemirror_mode": {
    "name": "ipython",
    "version": 3
   },
   "file_extension": ".py",
   "mimetype": "text/x-python",
   "name": "python",
   "nbconvert_exporter": "python",
   "pygments_lexer": "ipython3",
   "version": "3.6.7"
  }
 },
 "nbformat": 4,
 "nbformat_minor": 2
}
