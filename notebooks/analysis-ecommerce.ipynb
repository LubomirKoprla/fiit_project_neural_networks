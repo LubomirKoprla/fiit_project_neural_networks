{
 "cells": [
  {
   "cell_type": "code",
   "execution_count": 2,
   "metadata": {},
   "outputs": [],
   "source": [
    "import pandas as pd\n",
    "import os\n",
    "import matplotlib\n",
    "import seaborn as sns\n",
    "import numpy as np\n",
    "\n",
    "import os\n",
    "import sys\n",
    "nb_dir = os.path.split(os.getcwd())[0]\n",
    "if nb_dir not in sys.path:\n",
    "    sys.path.append(nb_dir)\n",
    "    \n",
    "from src.data.preprocessing import *\n",
    "from src.data.load_data_ecommerce import *"
   ]
  },
  {
   "cell_type": "code",
   "execution_count": 3,
   "metadata": {
    "scrolled": true
   },
   "outputs": [
    {
     "data": {
      "text/plain": [
       "['category_tree.csv',\n",
       " 'events.csv',\n",
       " 'item_properties_part1.csv',\n",
       " 'item_properties_part2.csv']"
      ]
     },
     "execution_count": 3,
     "metadata": {},
     "output_type": "execute_result"
    }
   ],
   "source": [
    "os.listdir(\"../data/raw/ecommerce-dataset/\")"
   ]
  },
  {
   "cell_type": "code",
   "execution_count": 4,
   "metadata": {},
   "outputs": [],
   "source": [
    "events = load_events()"
   ]
  },
  {
   "cell_type": "code",
   "execution_count": 4,
   "metadata": {},
   "outputs": [
    {
     "data": {
      "text/html": [
       "<div>\n",
       "<style scoped>\n",
       "    .dataframe tbody tr th:only-of-type {\n",
       "        vertical-align: middle;\n",
       "    }\n",
       "\n",
       "    .dataframe tbody tr th {\n",
       "        vertical-align: top;\n",
       "    }\n",
       "\n",
       "    .dataframe thead th {\n",
       "        text-align: right;\n",
       "    }\n",
       "</style>\n",
       "<table border=\"1\" class=\"dataframe\">\n",
       "  <thead>\n",
       "    <tr style=\"text-align: right;\">\n",
       "      <th></th>\n",
       "      <th>timestamp</th>\n",
       "      <th>visitorid</th>\n",
       "      <th>event</th>\n",
       "      <th>itemid</th>\n",
       "      <th>transactionid</th>\n",
       "    </tr>\n",
       "  </thead>\n",
       "  <tbody>\n",
       "    <tr>\n",
       "      <th>0</th>\n",
       "      <td>1433221332117</td>\n",
       "      <td>257597</td>\n",
       "      <td>view</td>\n",
       "      <td>355908</td>\n",
       "      <td>NaN</td>\n",
       "    </tr>\n",
       "    <tr>\n",
       "      <th>1</th>\n",
       "      <td>1433224214164</td>\n",
       "      <td>992329</td>\n",
       "      <td>view</td>\n",
       "      <td>248676</td>\n",
       "      <td>NaN</td>\n",
       "    </tr>\n",
       "    <tr>\n",
       "      <th>2</th>\n",
       "      <td>1433221999827</td>\n",
       "      <td>111016</td>\n",
       "      <td>view</td>\n",
       "      <td>318965</td>\n",
       "      <td>NaN</td>\n",
       "    </tr>\n",
       "    <tr>\n",
       "      <th>3</th>\n",
       "      <td>1433221955914</td>\n",
       "      <td>483717</td>\n",
       "      <td>view</td>\n",
       "      <td>253185</td>\n",
       "      <td>NaN</td>\n",
       "    </tr>\n",
       "    <tr>\n",
       "      <th>4</th>\n",
       "      <td>1433221337106</td>\n",
       "      <td>951259</td>\n",
       "      <td>view</td>\n",
       "      <td>367447</td>\n",
       "      <td>NaN</td>\n",
       "    </tr>\n",
       "  </tbody>\n",
       "</table>\n",
       "</div>"
      ],
      "text/plain": [
       "       timestamp  visitorid event  itemid  transactionid\n",
       "0  1433221332117     257597  view  355908            NaN\n",
       "1  1433224214164     992329  view  248676            NaN\n",
       "2  1433221999827     111016  view  318965            NaN\n",
       "3  1433221955914     483717  view  253185            NaN\n",
       "4  1433221337106     951259  view  367447            NaN"
      ]
     },
     "execution_count": 4,
     "metadata": {},
     "output_type": "execute_result"
    }
   ],
   "source": [
    "events.head()"
   ]
  },
  {
   "cell_type": "code",
   "execution_count": 5,
   "metadata": {},
   "outputs": [
    {
     "data": {
      "text/plain": [
       "(2756101, 5)"
      ]
     },
     "execution_count": 5,
     "metadata": {},
     "output_type": "execute_result"
    }
   ],
   "source": [
    "events.shape"
   ]
  },
  {
   "cell_type": "code",
   "execution_count": 6,
   "metadata": {},
   "outputs": [
    {
     "data": {
      "text/html": [
       "<div>\n",
       "<style scoped>\n",
       "    .dataframe tbody tr th:only-of-type {\n",
       "        vertical-align: middle;\n",
       "    }\n",
       "\n",
       "    .dataframe tbody tr th {\n",
       "        vertical-align: top;\n",
       "    }\n",
       "\n",
       "    .dataframe thead th {\n",
       "        text-align: right;\n",
       "    }\n",
       "</style>\n",
       "<table border=\"1\" class=\"dataframe\">\n",
       "  <thead>\n",
       "    <tr style=\"text-align: right;\">\n",
       "      <th></th>\n",
       "      <th>timestamp</th>\n",
       "      <th>visitorid</th>\n",
       "      <th>itemid</th>\n",
       "      <th>transactionid</th>\n",
       "    </tr>\n",
       "  </thead>\n",
       "  <tbody>\n",
       "    <tr>\n",
       "      <th>count</th>\n",
       "      <td>2.756101e+06</td>\n",
       "      <td>2.756101e+06</td>\n",
       "      <td>2.756101e+06</td>\n",
       "      <td>22457.000000</td>\n",
       "    </tr>\n",
       "    <tr>\n",
       "      <th>mean</th>\n",
       "      <td>1.436424e+12</td>\n",
       "      <td>7.019229e+05</td>\n",
       "      <td>2.349225e+05</td>\n",
       "      <td>8826.497796</td>\n",
       "    </tr>\n",
       "    <tr>\n",
       "      <th>std</th>\n",
       "      <td>3.366312e+09</td>\n",
       "      <td>4.056875e+05</td>\n",
       "      <td>1.341954e+05</td>\n",
       "      <td>5098.996290</td>\n",
       "    </tr>\n",
       "    <tr>\n",
       "      <th>min</th>\n",
       "      <td>1.430622e+12</td>\n",
       "      <td>0.000000e+00</td>\n",
       "      <td>3.000000e+00</td>\n",
       "      <td>0.000000</td>\n",
       "    </tr>\n",
       "    <tr>\n",
       "      <th>25%</th>\n",
       "      <td>1.433478e+12</td>\n",
       "      <td>3.505660e+05</td>\n",
       "      <td>1.181200e+05</td>\n",
       "      <td>4411.000000</td>\n",
       "    </tr>\n",
       "    <tr>\n",
       "      <th>50%</th>\n",
       "      <td>1.436453e+12</td>\n",
       "      <td>7.020600e+05</td>\n",
       "      <td>2.360670e+05</td>\n",
       "      <td>8813.000000</td>\n",
       "    </tr>\n",
       "    <tr>\n",
       "      <th>75%</th>\n",
       "      <td>1.439225e+12</td>\n",
       "      <td>1.053437e+06</td>\n",
       "      <td>3.507150e+05</td>\n",
       "      <td>13224.000000</td>\n",
       "    </tr>\n",
       "    <tr>\n",
       "      <th>max</th>\n",
       "      <td>1.442545e+12</td>\n",
       "      <td>1.407579e+06</td>\n",
       "      <td>4.668670e+05</td>\n",
       "      <td>17671.000000</td>\n",
       "    </tr>\n",
       "  </tbody>\n",
       "</table>\n",
       "</div>"
      ],
      "text/plain": [
       "          timestamp     visitorid        itemid  transactionid\n",
       "count  2.756101e+06  2.756101e+06  2.756101e+06   22457.000000\n",
       "mean   1.436424e+12  7.019229e+05  2.349225e+05    8826.497796\n",
       "std    3.366312e+09  4.056875e+05  1.341954e+05    5098.996290\n",
       "min    1.430622e+12  0.000000e+00  3.000000e+00       0.000000\n",
       "25%    1.433478e+12  3.505660e+05  1.181200e+05    4411.000000\n",
       "50%    1.436453e+12  7.020600e+05  2.360670e+05    8813.000000\n",
       "75%    1.439225e+12  1.053437e+06  3.507150e+05   13224.000000\n",
       "max    1.442545e+12  1.407579e+06  4.668670e+05   17671.000000"
      ]
     },
     "execution_count": 6,
     "metadata": {},
     "output_type": "execute_result"
    }
   ],
   "source": [
    "events.describe()"
   ]
  },
  {
   "cell_type": "code",
   "execution_count": 7,
   "metadata": {},
   "outputs": [
    {
     "data": {
      "text/plain": [
       "view           2664312\n",
       "addtocart        69332\n",
       "transaction      22457\n",
       "Name: event, dtype: int64"
      ]
     },
     "execution_count": 7,
     "metadata": {},
     "output_type": "execute_result"
    }
   ],
   "source": [
    "# events by type\n",
    "events.event.value_counts()"
   ]
  },
  {
   "cell_type": "markdown",
   "metadata": {},
   "source": [
    "In data we have 1,4 milion unique users. Only 11,7 thousand users purchased something. 1,1 milion users have interaction only with one item. \n",
    "We have 235 thousand items. Only 12 thousand items was purchased. "
   ]
  },
  {
   "cell_type": "markdown",
   "metadata": {},
   "source": [
    "### users"
   ]
  },
  {
   "cell_type": "code",
   "execution_count": 8,
   "metadata": {},
   "outputs": [
    {
     "data": {
      "text/plain": [
       "count    1.407580e+06\n",
       "mean     1.958042e+00\n",
       "std      1.258049e+01\n",
       "min      1.000000e+00\n",
       "25%      1.000000e+00\n",
       "50%      1.000000e+00\n",
       "75%      2.000000e+00\n",
       "max      7.757000e+03\n",
       "Name: visitorid, dtype: float64"
      ]
     },
     "execution_count": 8,
     "metadata": {},
     "output_type": "execute_result"
    }
   ],
   "source": [
    "# distribution of users by count of interactions\n",
    "events.visitorid.value_counts().describe()"
   ]
  },
  {
   "cell_type": "markdown",
   "metadata": {},
   "source": [
    "At least 50% of users has only 1 interaction"
   ]
  },
  {
   "cell_type": "code",
   "execution_count": 9,
   "metadata": {},
   "outputs": [
    {
     "data": {
      "text/plain": [
       "11719"
      ]
     },
     "execution_count": 9,
     "metadata": {},
     "output_type": "execute_result"
    }
   ],
   "source": [
    "# unique converted users\n",
    "events.visitorid[events['event'] == 'transaction' ].nunique()"
   ]
  },
  {
   "cell_type": "code",
   "execution_count": 10,
   "metadata": {},
   "outputs": [
    {
     "data": {
      "text/plain": [
       "1     1119500\n",
       "2      170551\n",
       "3       54235\n",
       "4       23659\n",
       "5       12650\n",
       "6        7400\n",
       "7        4655\n",
       "8        3198\n",
       "9        2286\n",
       "10       1660\n",
       "Name: itemid, dtype: int64"
      ]
     },
     "execution_count": 10,
     "metadata": {},
     "output_type": "execute_result"
    }
   ],
   "source": [
    "# How many users interacted with 1,2,..,10 unique products?\n",
    "events.groupby([\"visitorid\"]).itemid.nunique().value_counts()[:10]"
   ]
  },
  {
   "cell_type": "code",
   "execution_count": 11,
   "metadata": {},
   "outputs": [
    {
     "data": {
      "text/plain": [
       "1     0.795337\n",
       "2     0.916503\n",
       "3     0.955033\n",
       "4     0.971842\n",
       "5     0.980829\n",
       "6     0.986086\n",
       "7     0.989393\n",
       "8     0.991665\n",
       "9     0.993289\n",
       "10    0.994469\n",
       "Name: itemid, dtype: float64"
      ]
     },
     "execution_count": 11,
     "metadata": {},
     "output_type": "execute_result"
    }
   ],
   "source": [
    "# How many users interacted with 1,2,..,10 unique products?\n",
    "# Cumulative, percentual\n",
    "aux = events.groupby([\"visitorid\"]).itemid.nunique().value_counts()\n",
    "(aux.cumsum() / aux.sum())[:10]"
   ]
  },
  {
   "cell_type": "code",
   "execution_count": 12,
   "metadata": {},
   "outputs": [
    {
     "data": {
      "text/plain": [
       "1.0"
      ]
     },
     "execution_count": 12,
     "metadata": {},
     "output_type": "execute_result"
    }
   ],
   "source": [
    "# What is the median of unique products interacted by user?\n",
    "events.groupby([\"visitorid\"]).itemid.nunique().value_counts().median()"
   ]
  },
  {
   "cell_type": "code",
   "execution_count": 13,
   "metadata": {},
   "outputs": [
    {
     "data": {
      "text/plain": [
       "3814"
      ]
     },
     "execution_count": 13,
     "metadata": {},
     "output_type": "execute_result"
    }
   ],
   "source": [
    "# What is the maximum of unique products interacted by user?\n",
    "max(events.groupby([\"visitorid\"]).itemid.nunique())"
   ]
  },
  {
   "cell_type": "code",
   "execution_count": 14,
   "metadata": {},
   "outputs": [
    {
     "data": {
      "text/plain": [
       "visitorid\n",
       "38015       522\n",
       "53842       528\n",
       "76757       929\n",
       "77390       604\n",
       "79627      1257\n",
       "85734      1050\n",
       "138131      894\n",
       "152963     1622\n",
       "163561     1314\n",
       "165052      525\n",
       "173863      553\n",
       "198270      537\n",
       "229157      769\n",
       "247235      958\n",
       "286616     1230\n",
       "310759     1003\n",
       "316850      998\n",
       "350566      893\n",
       "371606     1399\n",
       "389532      528\n",
       "518659      716\n",
       "527307      818\n",
       "530559     2209\n",
       "548772      506\n",
       "638482     1133\n",
       "645525      791\n",
       "684514     1187\n",
       "705542      531\n",
       "737053      642\n",
       "757355      747\n",
       "765630      820\n",
       "825321      609\n",
       "836635     1029\n",
       "861299     1100\n",
       "892013     1738\n",
       "895999     1641\n",
       "994820      912\n",
       "1126569     685\n",
       "1150086    3814\n",
       "1161163     943\n",
       "1165148     620\n",
       "1297062    1146\n",
       "1327144     580\n",
       "Name: itemid, dtype: int64"
      ]
     },
     "execution_count": 14,
     "metadata": {},
     "output_type": "execute_result"
    }
   ],
   "source": [
    "# Users with more than 500 unique product interactions\n",
    "events.groupby([\"visitorid\"]).itemid.nunique()[events.groupby([\"visitorid\"]).itemid.nunique() > 500]"
   ]
  },
  {
   "cell_type": "code",
   "execution_count": 15,
   "metadata": {},
   "outputs": [
    {
     "data": {
      "text/plain": [
       "Int64Index([  38015,   53842,   76757,   77390,   79627,   85734,  138131,\n",
       "             152963,  163561,  165052,  173863,  198270,  229157,  247235,\n",
       "             286616,  310759,  316850,  350566,  371606,  389532,  518659,\n",
       "             527307,  530559,  548772,  638482,  645525,  684514,  705542,\n",
       "             737053,  757355,  765630,  825321,  836635,  861299,  892013,\n",
       "             895999,  994820, 1126569, 1150086, 1161163, 1165148, 1297062,\n",
       "            1327144],\n",
       "           dtype='int64', name='visitorid')"
      ]
     },
     "execution_count": 15,
     "metadata": {},
     "output_type": "execute_result"
    }
   ],
   "source": [
    "events.groupby([\"visitorid\"]).itemid.nunique()[events.groupby([\"visitorid\"]).itemid.nunique() > 500].index"
   ]
  },
  {
   "cell_type": "code",
   "execution_count": 16,
   "metadata": {},
   "outputs": [
    {
     "name": "stderr",
     "output_type": "stream",
     "text": [
      "C:\\Users\\Patrik\\Anaconda3\\lib\\site-packages\\seaborn\\categorical.py:454: FutureWarning: remove_na is deprecated and is a private function. Do not use.\n",
      "  box_data = remove_na(group_data)\n"
     ]
    },
    {
     "data": {
      "text/plain": [
       "<matplotlib.axes._subplots.AxesSubplot at 0x23d83cfb898>"
      ]
     },
     "execution_count": 16,
     "metadata": {},
     "output_type": "execute_result"
    },
    {
     "data": {
      "image/png": "[encoded data removed]",
      "text/plain": [
       "<matplotlib.figure.Figure at 0x23d83c58278>"
      ]
     },
     "metadata": {
      "needs_background": "light"
     },
     "output_type": "display_data"
    }
   ],
   "source": [
    "# boxplot of per user unique product interactions\n",
    "sns.boxplot( y=events.groupby([\"visitorid\"]).itemid.nunique() )"
   ]
  },
  {
   "cell_type": "code",
   "execution_count": 17,
   "metadata": {},
   "outputs": [
    {
     "data": {
      "text/plain": [
       "<matplotlib.axes._subplots.AxesSubplot at 0x23d83ce6a58>"
      ]
     },
     "execution_count": 17,
     "metadata": {},
     "output_type": "execute_result"
    },
    {
     "data": {
      "image/png": "[encoded data removed]",
      "text/plain": [
       "<matplotlib.figure.Figure at 0x23d8ff08518>"
      ]
     },
     "metadata": {
      "needs_background": "light"
     },
     "output_type": "display_data"
    }
   ],
   "source": [
    "# clipped distribution of per user unique product interactions\n",
    "events.groupby([\"visitorid\"]).itemid.nunique()[events.groupby([\"visitorid\"]).itemid.nunique() <20].hist(bins=20)"
   ]
  },
  {
   "cell_type": "markdown",
   "metadata": {},
   "source": [
    "### items"
   ]
  },
  {
   "cell_type": "code",
   "execution_count": 18,
   "metadata": {},
   "outputs": [
    {
     "data": {
      "text/plain": [
       "count    235061.000000\n",
       "mean         11.725046\n",
       "std          37.032101\n",
       "min           1.000000\n",
       "25%           1.000000\n",
       "50%           3.000000\n",
       "75%           9.000000\n",
       "max        3412.000000\n",
       "Name: itemid, dtype: float64"
      ]
     },
     "execution_count": 18,
     "metadata": {},
     "output_type": "execute_result"
    }
   ],
   "source": [
    "# distribution of items by count of interactions\n",
    "events.itemid.value_counts().describe()"
   ]
  },
  {
   "cell_type": "markdown",
   "metadata": {},
   "source": [
    "At least 25% of products has only 1 interaction"
   ]
  },
  {
   "cell_type": "code",
   "execution_count": 19,
   "metadata": {},
   "outputs": [
    {
     "data": {
      "text/plain": [
       "12025"
      ]
     },
     "execution_count": 19,
     "metadata": {},
     "output_type": "execute_result"
    }
   ],
   "source": [
    "# unique items purchased\n",
    "events.itemid[events['event'] == 'transaction' ].nunique()"
   ]
  },
  {
   "cell_type": "code",
   "execution_count": 20,
   "metadata": {},
   "outputs": [
    {
     "data": {
      "text/plain": [
       "1     81347\n",
       "2     36186\n",
       "3     21178\n",
       "4     14445\n",
       "5     10497\n",
       "6      8120\n",
       "7      6336\n",
       "8      5380\n",
       "9      4520\n",
       "10     3815\n",
       "11     3245\n",
       "12     2823\n",
       "13     2536\n",
       "14     2232\n",
       "15     1920\n",
       "16     1842\n",
       "17     1666\n",
       "18     1465\n",
       "19     1382\n",
       "20     1199\n",
       "21     1116\n",
       "22     1117\n",
       "23      980\n",
       "24      868\n",
       "25      804\n",
       "26      810\n",
       "27      730\n",
       "28      671\n",
       "29      652\n",
       "30      601\n",
       "31      553\n",
       "32      577\n",
       "33      529\n",
       "34      468\n",
       "35      431\n",
       "36      426\n",
       "37      417\n",
       "38      367\n",
       "39      336\n",
       "40      360\n",
       "41      316\n",
       "42      316\n",
       "43      309\n",
       "44      242\n",
       "45      270\n",
       "46      245\n",
       "47      258\n",
       "48      219\n",
       "50      243\n",
       "51      229\n",
       "Name: visitorid, dtype: int64"
      ]
     },
     "execution_count": 20,
     "metadata": {},
     "output_type": "execute_result"
    }
   ],
   "source": [
    "# How many products were interacted by 1,2,..,10 users?\n",
    "events.groupby([\"itemid\"]).visitorid.nunique().value_counts()[:50].sort_index()"
   ]
  },
  {
   "cell_type": "code",
   "execution_count": 21,
   "metadata": {},
   "outputs": [
    {
     "data": {
      "text/plain": [
       "1     0.346068\n",
       "2     0.500011\n",
       "3     0.590106\n",
       "4     0.651559\n",
       "5     0.696215\n",
       "6     0.730759\n",
       "7     0.757714\n",
       "8     0.780602\n",
       "9     0.799831\n",
       "10    0.816061\n",
       "11    0.829865\n",
       "12    0.841875\n",
       "13    0.852664\n",
       "14    0.862159\n",
       "15    0.870327\n",
       "16    0.878164\n",
       "17    0.885251\n",
       "18    0.891483\n",
       "19    0.897363\n",
       "20    0.902464\n",
       "21    0.907211\n",
       "22    0.911963\n",
       "23    0.916132\n",
       "24    0.919825\n",
       "25    0.923245\n",
       "26    0.926691\n",
       "27    0.929797\n",
       "28    0.932652\n",
       "29    0.935425\n",
       "30    0.937982\n",
       "31    0.940335\n",
       "32    0.942789\n",
       "33    0.945040\n",
       "34    0.947031\n",
       "35    0.948864\n",
       "36    0.950677\n",
       "37    0.952451\n",
       "38    0.954012\n",
       "39    0.955441\n",
       "40    0.956973\n",
       "41    0.958317\n",
       "42    0.959662\n",
       "43    0.960976\n",
       "44    0.962006\n",
       "45    0.963154\n",
       "46    0.964197\n",
       "47    0.965294\n",
       "48    0.966226\n",
       "49    0.967119\n",
       "50    0.968153\n",
       "Name: visitorid, dtype: float64"
      ]
     },
     "execution_count": 21,
     "metadata": {},
     "output_type": "execute_result"
    }
   ],
   "source": [
    "# How many products were interacted by 1,2,..,50 users?\n",
    "# Cumulative, percentual\n",
    "aux = events.groupby([\"itemid\"]).visitorid.nunique().value_counts().sort_index()\n",
    "(aux.cumsum() / aux.sum())[:50]"
   ]
  },
  {
   "cell_type": "code",
   "execution_count": 22,
   "metadata": {},
   "outputs": [
    {
     "data": {
      "text/plain": [
       "4.0"
      ]
     },
     "execution_count": 22,
     "metadata": {},
     "output_type": "execute_result"
    }
   ],
   "source": [
    "# What is the median of unique users interacted per item?\n",
    "events.groupby([\"itemid\"]).visitorid.nunique().value_counts().median()"
   ]
  },
  {
   "cell_type": "code",
   "execution_count": 23,
   "metadata": {},
   "outputs": [
    {
     "data": {
      "text/plain": [
       "81347"
      ]
     },
     "execution_count": 23,
     "metadata": {},
     "output_type": "execute_result"
    }
   ],
   "source": [
    "# What is the maximum of unique users interacted per item?\n",
    "max(events.groupby([\"itemid\"]).visitorid.nunique().value_counts())"
   ]
  },
  {
   "cell_type": "code",
   "execution_count": 24,
   "metadata": {},
   "outputs": [
    {
     "data": {
      "text/plain": [
       "<matplotlib.axes._subplots.AxesSubplot at 0x23d83e9f6d8>"
      ]
     },
     "execution_count": 24,
     "metadata": {},
     "output_type": "execute_result"
    },
    {
     "data": {
      "image/png": "[encoded data removed]",
      "text/plain": [
       "<matplotlib.figure.Figure at 0x23d8746e828>"
      ]
     },
     "metadata": {
      "needs_background": "light"
     },
     "output_type": "display_data"
    }
   ],
   "source": [
    "# boxplot of per item unique customer interactions\n",
    "sns.boxplot( y=events.groupby([\"itemid\"]).visitorid.nunique() )"
   ]
  },
  {
   "cell_type": "code",
   "execution_count": 25,
   "metadata": {},
   "outputs": [
    {
     "data": {
      "text/plain": [
       "<matplotlib.axes._subplots.AxesSubplot at 0x23d8747d160>"
      ]
     },
     "execution_count": 25,
     "metadata": {},
     "output_type": "execute_result"
    },
    {
     "data": {
      "image/png": "[encoded data removed]",
      "text/plain": [
       "<matplotlib.figure.Figure at 0x23d8748e8d0>"
      ]
     },
     "metadata": {
      "needs_background": "light"
     },
     "output_type": "display_data"
    }
   ],
   "source": [
    "# clipped distribution of per item unique customer interactions\n",
    "events.groupby([\"itemid\"]).visitorid.nunique()[events.groupby([\"itemid\"]).visitorid.nunique() <=20].hist(bins=20)"
   ]
  },
  {
   "cell_type": "code",
   "execution_count": null,
   "metadata": {},
   "outputs": [],
   "source": []
  },
  {
   "cell_type": "markdown",
   "metadata": {},
   "source": [
    "### Timestamp"
   ]
  },
  {
   "cell_type": "code",
   "execution_count": 26,
   "metadata": {},
   "outputs": [],
   "source": [
    "events['datetime'] = pd.to_datetime(events['timestamp'],unit='ms')"
   ]
  },
  {
   "cell_type": "markdown",
   "metadata": {},
   "source": [
    "Data are from range between 2015-05-03 and 2015-09-18"
   ]
  },
  {
   "cell_type": "code",
   "execution_count": 27,
   "metadata": {},
   "outputs": [
    {
     "data": {
      "text/plain": [
       "Timestamp('2015-05-03 03:00:04.384000')"
      ]
     },
     "execution_count": 27,
     "metadata": {},
     "output_type": "execute_result"
    }
   ],
   "source": [
    "min(events['datetime'])"
   ]
  },
  {
   "cell_type": "code",
   "execution_count": 28,
   "metadata": {},
   "outputs": [
    {
     "data": {
      "text/plain": [
       "Timestamp('2015-09-18 02:59:47.788000')"
      ]
     },
     "execution_count": 28,
     "metadata": {},
     "output_type": "execute_result"
    }
   ],
   "source": [
    "max(events['datetime'])"
   ]
  },
  {
   "cell_type": "code",
   "execution_count": 29,
   "metadata": {},
   "outputs": [
    {
     "data": {
      "text/plain": [
       "<matplotlib.axes._subplots.AxesSubplot at 0x23d875b8fd0>"
      ]
     },
     "execution_count": 29,
     "metadata": {},
     "output_type": "execute_result"
    },
    {
     "data": {
      "image/png": "[encoded data removed]",
      "text/plain": [
       "<matplotlib.figure.Figure at 0x23d83e25550>"
      ]
     },
     "metadata": {
      "needs_background": "light"
     },
     "output_type": "display_data"
    }
   ],
   "source": [
    "# events in time\n",
    "events['datetime'].hist(bins=100)"
   ]
  },
  {
   "cell_type": "code",
   "execution_count": 30,
   "metadata": {},
   "outputs": [
    {
     "data": {
      "text/plain": [
       "<matplotlib.axes._subplots.AxesSubplot at 0x23d83c233c8>"
      ]
     },
     "execution_count": 30,
     "metadata": {},
     "output_type": "execute_result"
    },
    {
     "data": {
      "image/png": "[encoded data removed]",
      "text/plain": [
       "<matplotlib.figure.Figure at 0x23d8ce442e8>"
      ]
     },
     "metadata": {
      "needs_background": "light"
     },
     "output_type": "display_data"
    }
   ],
   "source": [
    "# purchases in time\n",
    "events['datetime'][events['event'] == 'transaction' ].hist(bins=100)"
   ]
  },
  {
   "cell_type": "code",
   "execution_count": 31,
   "metadata": {},
   "outputs": [
    {
     "data": {
      "text/plain": [
       "<matplotlib.axes._subplots.AxesSubplot at 0x23d8ce40128>"
      ]
     },
     "execution_count": 31,
     "metadata": {},
     "output_type": "execute_result"
    },
    {
     "data": {
      "image/png": "[encoded data removed]",
      "text/plain": [
       "<matplotlib.figure.Figure at 0x23d8d0a9240>"
      ]
     },
     "metadata": {
      "needs_background": "light"
     },
     "output_type": "display_data"
    }
   ],
   "source": [
    "# purchases in time\n",
    "events[events['event'] == 'transaction'].plot.scatter('timestamp','visitorid',s=0.01)"
   ]
  },
  {
   "cell_type": "code",
   "execution_count": 32,
   "metadata": {},
   "outputs": [
    {
     "data": {
      "text/plain": [
       "<matplotlib.axes._subplots.AxesSubplot at 0x23d8d198b00>"
      ]
     },
     "execution_count": 32,
     "metadata": {},
     "output_type": "execute_result"
    },
    {
     "data": {
      "image/png": "[encoded data removed]",
      "text/plain": [
       "<matplotlib.figure.Figure at 0x23d8d1a0780>"
      ]
     },
     "metadata": {
      "needs_background": "light"
     },
     "output_type": "display_data"
    }
   ],
   "source": [
    "# purchases in time\n",
    "events[events['event'] == 'transaction'].plot.scatter('itemid','visitorid',s=0.7)"
   ]
  },
  {
   "cell_type": "markdown",
   "metadata": {},
   "source": [
    "# Data processing\n",
    "\n",
    "During data processing, we excluded users with less than 5 products and more than 100 products"
   ]
  },
  {
   "cell_type": "code",
   "execution_count": 5,
   "metadata": {},
   "outputs": [],
   "source": [
    "data_x,data_y = preprocessing(events,\"visitorid\",\"itemid\")"
   ]
  },
  {
   "cell_type": "code",
   "execution_count": 6,
   "metadata": {},
   "outputs": [],
   "source": [
    "train_x,test_x,train_y,test_y = data_split(data_x,data_y)"
   ]
  },
  {
   "cell_type": "code",
   "execution_count": 7,
   "metadata": {},
   "outputs": [
    {
     "data": {
      "text/plain": [
       "26766"
      ]
     },
     "execution_count": 7,
     "metadata": {},
     "output_type": "execute_result"
    }
   ],
   "source": [
    "len(data_x)"
   ]
  },
  {
   "cell_type": "code",
   "execution_count": 8,
   "metadata": {},
   "outputs": [
    {
     "data": {
      "text/plain": [
       "(21412, 100)"
      ]
     },
     "execution_count": 8,
     "metadata": {},
     "output_type": "execute_result"
    }
   ],
   "source": [
    "# users (=sequences) x sequence length\n",
    "train_x.shape"
   ]
  },
  {
   "cell_type": "code",
   "execution_count": 9,
   "metadata": {},
   "outputs": [
    {
     "data": {
      "text/plain": [
       "(5354, 100)"
      ]
     },
     "execution_count": 9,
     "metadata": {},
     "output_type": "execute_result"
    }
   ],
   "source": [
    "# users (=sequences) x sequence length\n",
    "test_x.shape"
   ]
  },
  {
   "cell_type": "code",
   "execution_count": 10,
   "metadata": {},
   "outputs": [
    {
     "data": {
      "text/plain": [
       "74701"
      ]
     },
     "execution_count": 10,
     "metadata": {},
     "output_type": "execute_result"
    }
   ],
   "source": [
    "# output dim = one hot encoded resulting items\n",
    "len(test_y[0])"
   ]
  },
  {
   "cell_type": "code",
   "execution_count": null,
   "metadata": {},
   "outputs": [],
   "source": []
  }
 ],
 "metadata": {
  "kernelspec": {
   "display_name": "Python 3",
   "language": "python",
   "name": "python3"
  },
  "language_info": {
   "codemirror_mode": {
    "name": "ipython",
    "version": 3
   },
   "file_extension": ".py",
   "mimetype": "text/x-python",
   "name": "python",
   "nbconvert_exporter": "python",
   "pygments_lexer": "ipython3",
   "version": "3.7.3"
  }
 },
 "nbformat": 4,
 "nbformat_minor": 2
}
