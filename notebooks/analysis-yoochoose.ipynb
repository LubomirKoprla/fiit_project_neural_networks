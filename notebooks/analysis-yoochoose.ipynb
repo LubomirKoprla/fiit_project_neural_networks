{
 "cells": [
  {
   "cell_type": "code",
   "execution_count": 1,
   "metadata": {},
   "outputs": [],
   "source": [
    "import pandas as pd\n",
    "import os\n",
    "import matplotlib\n",
    "import seaborn as sns\n",
    "import numpy as np\n",
    "\n",
    "import os\n",
    "import sys\n",
    "nb_dir = os.path.split(os.getcwd())[0]\n",
    "if nb_dir not in sys.path:\n",
    "    sys.path.append(nb_dir)\n",
    "    \n",
    "from src.data.preprocessing import *\n",
    "from src.data.load_data_yoochoose import *"
   ]
  },
  {
   "cell_type": "code",
   "execution_count": 4,
   "metadata": {
    "scrolled": true
   },
   "outputs": [
    {
     "data": {
      "text/plain": [
       "['dataset-README.txt',\n",
       " 'yoochoose-buys.csv',\n",
       " 'yoochoose-clicks.csv',\n",
       " 'yoochoose-test.csv']"
      ]
     },
     "execution_count": 4,
     "metadata": {},
     "output_type": "execute_result"
    }
   ],
   "source": [
    "os.listdir(\"../data/raw/yoochoose-csv/\")"
   ]
  },
  {
   "cell_type": "code",
   "execution_count": 2,
   "metadata": {},
   "outputs": [
    {
     "name": "stderr",
     "output_type": "stream",
     "text": [
      "C:\\Users\\koprl\\Anaconda3\\lib\\site-packages\\IPython\\core\\interactiveshell.py:3214: DtypeWarning: Columns (3) have mixed types. Specify dtype option on import or set low_memory=False.\n",
      "  if (yield from self.run_code(code, result)):\n"
     ]
    }
   ],
   "source": [
    "events = load_clicks()"
   ]
  },
  {
   "cell_type": "code",
   "execution_count": 7,
   "metadata": {},
   "outputs": [
    {
     "data": {
      "text/html": [
       "<div>\n",
       "<style scoped>\n",
       "    .dataframe tbody tr th:only-of-type {\n",
       "        vertical-align: middle;\n",
       "    }\n",
       "\n",
       "    .dataframe tbody tr th {\n",
       "        vertical-align: top;\n",
       "    }\n",
       "\n",
       "    .dataframe thead th {\n",
       "        text-align: right;\n",
       "    }\n",
       "</style>\n",
       "<table border=\"1\" class=\"dataframe\">\n",
       "  <thead>\n",
       "    <tr style=\"text-align: right;\">\n",
       "      <th></th>\n",
       "      <th>visitorid</th>\n",
       "      <th>timestamp</th>\n",
       "      <th>itemid</th>\n",
       "      <th>category</th>\n",
       "    </tr>\n",
       "  </thead>\n",
       "  <tbody>\n",
       "    <tr>\n",
       "      <th>0</th>\n",
       "      <td>1</td>\n",
       "      <td>2014-04-07T10:51:09.277Z</td>\n",
       "      <td>214536502</td>\n",
       "      <td>0</td>\n",
       "    </tr>\n",
       "    <tr>\n",
       "      <th>1</th>\n",
       "      <td>1</td>\n",
       "      <td>2014-04-07T10:54:09.868Z</td>\n",
       "      <td>214536500</td>\n",
       "      <td>0</td>\n",
       "    </tr>\n",
       "    <tr>\n",
       "      <th>2</th>\n",
       "      <td>1</td>\n",
       "      <td>2014-04-07T10:54:46.998Z</td>\n",
       "      <td>214536506</td>\n",
       "      <td>0</td>\n",
       "    </tr>\n",
       "    <tr>\n",
       "      <th>3</th>\n",
       "      <td>1</td>\n",
       "      <td>2014-04-07T10:57:00.306Z</td>\n",
       "      <td>214577561</td>\n",
       "      <td>0</td>\n",
       "    </tr>\n",
       "    <tr>\n",
       "      <th>4</th>\n",
       "      <td>2</td>\n",
       "      <td>2014-04-07T13:56:37.614Z</td>\n",
       "      <td>214662742</td>\n",
       "      <td>0</td>\n",
       "    </tr>\n",
       "  </tbody>\n",
       "</table>\n",
       "</div>"
      ],
      "text/plain": [
       "   visitorid                 timestamp     itemid category\n",
       "0          1  2014-04-07T10:51:09.277Z  214536502        0\n",
       "1          1  2014-04-07T10:54:09.868Z  214536500        0\n",
       "2          1  2014-04-07T10:54:46.998Z  214536506        0\n",
       "3          1  2014-04-07T10:57:00.306Z  214577561        0\n",
       "4          2  2014-04-07T13:56:37.614Z  214662742        0"
      ]
     },
     "execution_count": 7,
     "metadata": {},
     "output_type": "execute_result"
    }
   ],
   "source": [
    "events.head()"
   ]
  },
  {
   "cell_type": "code",
   "execution_count": 8,
   "metadata": {},
   "outputs": [
    {
     "data": {
      "text/plain": [
       "(33003944, 4)"
      ]
     },
     "execution_count": 8,
     "metadata": {},
     "output_type": "execute_result"
    }
   ],
   "source": [
    "events.shape"
   ]
  },
  {
   "cell_type": "code",
   "execution_count": 10,
   "metadata": {},
   "outputs": [
    {
     "data": {
      "text/plain": [
       "9249729"
      ]
     },
     "execution_count": 10,
     "metadata": {},
     "output_type": "execute_result"
    }
   ],
   "source": [
    "events.visitorid.nunique()"
   ]
  },
  {
   "cell_type": "code",
   "execution_count": 12,
   "metadata": {},
   "outputs": [
    {
     "data": {
      "text/plain": [
       "52739"
      ]
     },
     "execution_count": 12,
     "metadata": {},
     "output_type": "execute_result"
    }
   ],
   "source": [
    "events.itemid.nunique()"
   ]
  },
  {
   "cell_type": "code",
   "execution_count": 14,
   "metadata": {},
   "outputs": [
    {
     "data": {
      "text/plain": [
       "2.877443868896051"
      ]
     },
     "execution_count": 14,
     "metadata": {},
     "output_type": "execute_result"
    }
   ],
   "source": [
    "events.groupby([\"visitorid\"]).itemid.nunique().mean()"
   ]
  },
  {
   "cell_type": "markdown",
   "metadata": {},
   "source": [
    "In data we have 9,25 milion unique sessions. During average session user has interaction with 2,87 items.\n",
    "We have 52 thousand items. "
   ]
  },
  {
   "cell_type": "markdown",
   "metadata": {},
   "source": [
    "### users"
   ]
  },
  {
   "cell_type": "code",
   "execution_count": 15,
   "metadata": {},
   "outputs": [
    {
     "data": {
      "text/plain": [
       "count    9.249729e+06\n",
       "mean     3.568098e+00\n",
       "std      3.787520e+00\n",
       "min      1.000000e+00\n",
       "25%      2.000000e+00\n",
       "50%      2.000000e+00\n",
       "75%      4.000000e+00\n",
       "max      2.000000e+02\n",
       "Name: visitorid, dtype: float64"
      ]
     },
     "execution_count": 15,
     "metadata": {},
     "output_type": "execute_result"
    }
   ],
   "source": [
    "# distribution of users by count of interactions\n",
    "events.visitorid.value_counts().describe()"
   ]
  },
  {
   "cell_type": "markdown",
   "metadata": {},
   "source": [
    "At least 50% of users has only 1 interaction"
   ]
  },
  {
   "cell_type": "code",
   "execution_count": 19,
   "metadata": {},
   "outputs": [
    {
     "data": {
      "text/plain": [
       "1     2493154\n",
       "2     3273089\n",
       "3     1447044\n",
       "4      748610\n",
       "5      423918\n",
       "6      257964\n",
       "7      166195\n",
       "8      110891\n",
       "9       76887\n",
       "10      54886\n",
       "Name: itemid, dtype: int64"
      ]
     },
     "execution_count": 19,
     "metadata": {},
     "output_type": "execute_result"
    }
   ],
   "source": [
    "# How many users interacted with 1,2,..,10 unique products?\n",
    "events.groupby([\"visitorid\"]).itemid.nunique().value_counts().sort_index()[:10]"
   ]
  },
  {
   "cell_type": "code",
   "execution_count": 36,
   "metadata": {},
   "outputs": [],
   "source": [
    "# How many users interacted with 1,2,..,10 unique products?\n",
    "# Cumulative, percentual\n",
    "aux = events.groupby([\"visitorid\"]).itemid.nunique().value_counts().sort_index()\n",
    "aux_cumsum = aux.cumsum()"
   ]
  },
  {
   "cell_type": "code",
   "execution_count": 45,
   "metadata": {},
   "outputs": [
    {
     "data": {
      "text/plain": [
       "-6756311"
      ]
     },
     "execution_count": 45,
     "metadata": {},
     "output_type": "execute_result"
    }
   ],
   "source": [
    "aux_cumsum[1]-aux_cumsum[100]"
   ]
  },
  {
   "cell_type": "code",
   "execution_count": 46,
   "metadata": {},
   "outputs": [
    {
     "data": {
      "text/plain": [
       "1      2493154\n",
       "2      5766243\n",
       "3      7213287\n",
       "4      7961897\n",
       "5      8385815\n",
       "6      8643779\n",
       "7      8809974\n",
       "8      8920865\n",
       "9      8997752\n",
       "10     9052638\n",
       "11     9092678\n",
       "12     9122801\n",
       "13     9145617\n",
       "14     9163272\n",
       "15     9177186\n",
       "16     9188256\n",
       "17     9197230\n",
       "18     9204638\n",
       "19     9210617\n",
       "20     9215705\n",
       "21     9219990\n",
       "22     9223538\n",
       "23     9226536\n",
       "24     9229088\n",
       "25     9231338\n",
       "26     9233273\n",
       "27     9235001\n",
       "28     9236499\n",
       "29     9237820\n",
       "30     9238902\n",
       "        ...   \n",
       "71     9248984\n",
       "72     9249013\n",
       "73     9249036\n",
       "74     9249070\n",
       "75     9249111\n",
       "76     9249145\n",
       "77     9249173\n",
       "78     9249194\n",
       "79     9249209\n",
       "80     9249228\n",
       "81     9249249\n",
       "82     9249260\n",
       "83     9249277\n",
       "84     9249287\n",
       "85     9249306\n",
       "86     9249317\n",
       "87     9249326\n",
       "88     9249339\n",
       "89     9249351\n",
       "90     9249370\n",
       "91     9249377\n",
       "92     9249387\n",
       "93     9249400\n",
       "94     9249411\n",
       "95     9249423\n",
       "96     9249432\n",
       "97     9249445\n",
       "98     9249455\n",
       "99     9249461\n",
       "100    9249465\n",
       "Name: itemid, Length: 100, dtype: int64"
      ]
     },
     "execution_count": 46,
     "metadata": {},
     "output_type": "execute_result"
    }
   ],
   "source": [
    "aux_cumsum[:100]"
   ]
  },
  {
   "cell_type": "code",
   "execution_count": 26,
   "metadata": {},
   "outputs": [
    {
     "data": {
      "text/plain": [
       "1     0.269538\n",
       "2     0.623396\n",
       "3     0.779838\n",
       "4     0.860771\n",
       "5     0.906601\n",
       "6     0.934490\n",
       "7     0.952458\n",
       "8     0.964446\n",
       "9     0.972758\n",
       "10    0.978692\n",
       "11    0.983021\n",
       "12    0.986278\n",
       "13    0.988744\n",
       "14    0.990653\n",
       "15    0.992157\n",
       "16    0.993354\n",
       "17    0.994324\n",
       "18    0.995125\n",
       "19    0.995772\n",
       "20    0.996322\n",
       "21    0.996785\n",
       "22    0.997168\n",
       "23    0.997493\n",
       "24    0.997768\n",
       "25    0.998012\n",
       "26    0.998221\n",
       "27    0.998408\n",
       "28    0.998570\n",
       "29    0.998713\n",
       "30    0.998829\n",
       "31    0.998933\n",
       "32    0.999026\n",
       "33    0.999109\n",
       "34    0.999185\n",
       "35    0.999252\n",
       "36    0.999313\n",
       "37    0.999367\n",
       "38    0.999417\n",
       "39    0.999462\n",
       "40    0.999496\n",
       "41    0.999531\n",
       "42    0.999567\n",
       "43    0.999596\n",
       "44    0.999623\n",
       "45    0.999647\n",
       "46    0.999669\n",
       "47    0.999689\n",
       "48    0.999708\n",
       "49    0.999728\n",
       "50    0.999744\n",
       "Name: itemid, dtype: float64"
      ]
     },
     "execution_count": 26,
     "metadata": {},
     "output_type": "execute_result"
    }
   ],
   "source": [
    "# How many users interacted with 1,2,..,10 unique products?\n",
    "# Cumulative, percentual\n",
    "aux = events.groupby([\"visitorid\"]).itemid.nunique().value_counts().sort_index()\n",
    "(aux.cumsum() / aux.sum())[:50]"
   ]
  },
  {
   "cell_type": "code",
   "execution_count": 21,
   "metadata": {},
   "outputs": [
    {
     "data": {
      "text/plain": [
       "12.0"
      ]
     },
     "execution_count": 21,
     "metadata": {},
     "output_type": "execute_result"
    }
   ],
   "source": [
    "# What is the median of unique products interacted by user?\n",
    "events.groupby([\"visitorid\"]).itemid.nunique().value_counts().median()"
   ]
  },
  {
   "cell_type": "code",
   "execution_count": 22,
   "metadata": {},
   "outputs": [
    {
     "data": {
      "text/plain": [
       "200"
      ]
     },
     "execution_count": 22,
     "metadata": {},
     "output_type": "execute_result"
    }
   ],
   "source": [
    "# What is the maximum of unique products interacted by user?\n",
    "max(events.groupby([\"visitorid\"]).itemid.nunique())"
   ]
  },
  {
   "cell_type": "code",
   "execution_count": 23,
   "metadata": {},
   "outputs": [
    {
     "data": {
      "text/plain": [
       "Series([], Name: itemid, dtype: int64)"
      ]
     },
     "execution_count": 23,
     "metadata": {},
     "output_type": "execute_result"
    }
   ],
   "source": [
    "# Users with more than 500 unique product interactions\n",
    "events.groupby([\"visitorid\"]).itemid.nunique()[events.groupby([\"visitorid\"]).itemid.nunique() > 500]"
   ]
  },
  {
   "cell_type": "code",
   "execution_count": 24,
   "metadata": {},
   "outputs": [
    {
     "data": {
      "text/plain": [
       "Int64Index([], dtype='int64', name='visitorid')"
      ]
     },
     "execution_count": 24,
     "metadata": {},
     "output_type": "execute_result"
    }
   ],
   "source": [
    "events.groupby([\"visitorid\"]).itemid.nunique()[events.groupby([\"visitorid\"]).itemid.nunique() > 500].index"
   ]
  },
  {
   "cell_type": "code",
   "execution_count": 25,
   "metadata": {},
   "outputs": [
    {
     "data": {
      "text/plain": [
       "<matplotlib.axes._subplots.AxesSubplot at 0x21400c01ef0>"
      ]
     },
     "execution_count": 25,
     "metadata": {},
     "output_type": "execute_result"
    },
    {
     "data": {
      "image/png": "[encoded data removed]",
      "text/plain": [
       "<Figure size 432x288 with 1 Axes>"
      ]
     },
     "metadata": {
      "needs_background": "light"
     },
     "output_type": "display_data"
    }
   ],
   "source": [
    "# boxplot of per user unique product interactions\n",
    "sns.boxplot( y=events.groupby([\"visitorid\"]).itemid.nunique() )"
   ]
  },
  {
   "cell_type": "code",
   "execution_count": 26,
   "metadata": {},
   "outputs": [
    {
     "data": {
      "text/plain": [
       "<matplotlib.axes._subplots.AxesSubplot at 0x2140161b9b0>"
      ]
     },
     "execution_count": 26,
     "metadata": {},
     "output_type": "execute_result"
    },
    {
     "data": {
      "image/png": "[encoded data removed]",
      "text/plain": [
       "<Figure size 432x288 with 1 Axes>"
      ]
     },
     "metadata": {
      "needs_background": "light"
     },
     "output_type": "display_data"
    }
   ],
   "source": [
    "# clipped distribution of per user unique product interactions\n",
    "events.groupby([\"visitorid\"]).itemid.nunique()[events.groupby([\"visitorid\"]).itemid.nunique() <20].hist(bins=20)"
   ]
  },
  {
   "cell_type": "markdown",
   "metadata": {},
   "source": [
    "### items"
   ]
  },
  {
   "cell_type": "code",
   "execution_count": 27,
   "metadata": {},
   "outputs": [
    {
     "data": {
      "text/plain": [
       "count     52739.000000\n",
       "mean        625.797683\n",
       "std        2810.071521\n",
       "min           1.000000\n",
       "25%           4.000000\n",
       "50%          22.000000\n",
       "75%         205.000000\n",
       "max      147419.000000\n",
       "Name: itemid, dtype: float64"
      ]
     },
     "execution_count": 27,
     "metadata": {},
     "output_type": "execute_result"
    }
   ],
   "source": [
    "# distribution of items by count of interactions\n",
    "events.itemid.value_counts().describe()"
   ]
  },
  {
   "cell_type": "markdown",
   "metadata": {},
   "source": [
    "At least 25% of products has only 1 interaction"
   ]
  },
  {
   "cell_type": "code",
   "execution_count": 28,
   "metadata": {},
   "outputs": [
    {
     "data": {
      "text/plain": [
       "1     7144\n",
       "2     4269\n",
       "3     2881\n",
       "4     2138\n",
       "5     1667\n",
       "6     1341\n",
       "7     1081\n",
       "8      907\n",
       "9      800\n",
       "10     702\n",
       "11     628\n",
       "12     540\n",
       "13     499\n",
       "14     427\n",
       "15     412\n",
       "16     401\n",
       "17     345\n",
       "18     318\n",
       "19     314\n",
       "20     300\n",
       "21     289\n",
       "22     245\n",
       "23     250\n",
       "24     261\n",
       "25     216\n",
       "26     230\n",
       "27     222\n",
       "28     254\n",
       "29     209\n",
       "30     176\n",
       "31     178\n",
       "32     170\n",
       "33     176\n",
       "34     162\n",
       "35     149\n",
       "36     181\n",
       "37     152\n",
       "38     147\n",
       "39     146\n",
       "40     147\n",
       "41     131\n",
       "42     145\n",
       "43     140\n",
       "44     115\n",
       "45     148\n",
       "46     131\n",
       "49     119\n",
       "51     126\n",
       "54     117\n",
       "56     114\n",
       "Name: visitorid, dtype: int64"
      ]
     },
     "execution_count": 28,
     "metadata": {},
     "output_type": "execute_result"
    }
   ],
   "source": [
    "# How many products were interacted by 1,2,..,10 users?\n",
    "events.groupby([\"itemid\"]).visitorid.nunique().value_counts()[:50].sort_index()"
   ]
  },
  {
   "cell_type": "code",
   "execution_count": 29,
   "metadata": {},
   "outputs": [
    {
     "data": {
      "text/plain": [
       "1     0.135460\n",
       "2     0.216405\n",
       "3     0.271033\n",
       "4     0.311572\n",
       "5     0.343181\n",
       "6     0.368608\n",
       "7     0.389105\n",
       "8     0.406303\n",
       "9     0.421472\n",
       "10    0.434783\n",
       "11    0.446690\n",
       "12    0.456929\n",
       "13    0.466391\n",
       "14    0.474488\n",
       "15    0.482300\n",
       "16    0.489903\n",
       "17    0.496445\n",
       "18    0.502474\n",
       "19    0.508428\n",
       "20    0.514117\n",
       "21    0.519597\n",
       "22    0.524242\n",
       "23    0.528982\n",
       "24    0.533931\n",
       "25    0.538027\n",
       "26    0.542388\n",
       "27    0.546597\n",
       "28    0.551414\n",
       "29    0.555376\n",
       "30    0.558714\n",
       "31    0.562089\n",
       "32    0.565312\n",
       "33    0.568649\n",
       "34    0.571721\n",
       "35    0.574546\n",
       "36    0.577978\n",
       "37    0.580860\n",
       "38    0.583648\n",
       "39    0.586416\n",
       "40    0.589203\n",
       "41    0.591687\n",
       "42    0.594437\n",
       "43    0.597091\n",
       "44    0.599272\n",
       "45    0.602078\n",
       "46    0.604562\n",
       "47    0.606724\n",
       "48    0.608715\n",
       "49    0.610971\n",
       "50    0.613114\n",
       "Name: visitorid, dtype: float64"
      ]
     },
     "execution_count": 29,
     "metadata": {},
     "output_type": "execute_result"
    }
   ],
   "source": [
    "# How many products were interacted by 1,2,..,50 users?\n",
    "# Cumulative, percentual\n",
    "aux = events.groupby([\"itemid\"]).visitorid.nunique().value_counts().sort_index()\n",
    "(aux.cumsum() / aux.sum())[:50]"
   ]
  },
  {
   "cell_type": "code",
   "execution_count": 30,
   "metadata": {},
   "outputs": [
    {
     "data": {
      "text/plain": [
       "1.0"
      ]
     },
     "execution_count": 30,
     "metadata": {},
     "output_type": "execute_result"
    }
   ],
   "source": [
    "# What is the median of unique users interacted per item?\n",
    "events.groupby([\"itemid\"]).visitorid.nunique().value_counts().median()"
   ]
  },
  {
   "cell_type": "code",
   "execution_count": 31,
   "metadata": {},
   "outputs": [
    {
     "data": {
      "text/plain": [
       "7144"
      ]
     },
     "execution_count": 31,
     "metadata": {},
     "output_type": "execute_result"
    }
   ],
   "source": [
    "# What is the maximum of unique users interacted per item?\n",
    "max(events.groupby([\"itemid\"]).visitorid.nunique().value_counts())"
   ]
  },
  {
   "cell_type": "code",
   "execution_count": 32,
   "metadata": {},
   "outputs": [
    {
     "data": {
      "text/plain": [
       "<matplotlib.axes._subplots.AxesSubplot at 0x214016955f8>"
      ]
     },
     "execution_count": 32,
     "metadata": {},
     "output_type": "execute_result"
    },
    {
     "data": {
      "image/png": "[encoded data removed]",
      "text/plain": [
       "<Figure size 432x288 with 1 Axes>"
      ]
     },
     "metadata": {
      "needs_background": "light"
     },
     "output_type": "display_data"
    }
   ],
   "source": [
    "# boxplot of per item unique customer interactions\n",
    "sns.boxplot( y=events.groupby([\"itemid\"]).visitorid.nunique() )"
   ]
  },
  {
   "cell_type": "code",
   "execution_count": 33,
   "metadata": {},
   "outputs": [
    {
     "data": {
      "text/plain": [
       "<matplotlib.axes._subplots.AxesSubplot at 0x214016e8f98>"
      ]
     },
     "execution_count": 33,
     "metadata": {},
     "output_type": "execute_result"
    },
    {
     "data": {
      "image/png": "[encoded data removed]",
      "text/plain": [
       "<Figure size 432x288 with 1 Axes>"
      ]
     },
     "metadata": {
      "needs_background": "light"
     },
     "output_type": "display_data"
    }
   ],
   "source": [
    "# clipped distribution of per item unique customer interactions\n",
    "events.groupby([\"itemid\"]).visitorid.nunique()[events.groupby([\"itemid\"]).visitorid.nunique() <=20].hist(bins=20)"
   ]
  },
  {
   "cell_type": "code",
   "execution_count": null,
   "metadata": {},
   "outputs": [],
   "source": []
  },
  {
   "cell_type": "markdown",
   "metadata": {},
   "source": [
    "### Timestamp"
   ]
  },
  {
   "cell_type": "code",
   "execution_count": 47,
   "metadata": {},
   "outputs": [
    {
     "data": {
      "text/plain": [
       "0    2014-04-07T10:51:09.277Z\n",
       "1    2014-04-07T10:54:09.868Z\n",
       "2    2014-04-07T10:54:46.998Z\n",
       "3    2014-04-07T10:57:00.306Z\n",
       "4    2014-04-07T13:56:37.614Z\n",
       "Name: timestamp, dtype: object"
      ]
     },
     "execution_count": 47,
     "metadata": {},
     "output_type": "execute_result"
    }
   ],
   "source": [
    "events['timestamp'][:5]"
   ]
  },
  {
   "cell_type": "code",
   "execution_count": 51,
   "metadata": {},
   "outputs": [],
   "source": [
    "events['datetime'] = pd.to_datetime(events['timestamp'],format=\"%Y-%m-%dT%H:%M:%S.%fZ\")"
   ]
  },
  {
   "cell_type": "markdown",
   "metadata": {},
   "source": [
    "Data are from range between 2015-05-03 and 2015-09-18"
   ]
  },
  {
   "cell_type": "code",
   "execution_count": 52,
   "metadata": {},
   "outputs": [
    {
     "data": {
      "text/plain": [
       "Timestamp('2014-04-01 03:00:00.124000')"
      ]
     },
     "execution_count": 52,
     "metadata": {},
     "output_type": "execute_result"
    }
   ],
   "source": [
    "min(events['datetime'])"
   ]
  },
  {
   "cell_type": "code",
   "execution_count": 53,
   "metadata": {},
   "outputs": [
    {
     "data": {
      "text/plain": [
       "Timestamp('2014-09-30 02:59:59.430000')"
      ]
     },
     "execution_count": 53,
     "metadata": {},
     "output_type": "execute_result"
    }
   ],
   "source": [
    "max(events['datetime'])"
   ]
  },
  {
   "cell_type": "code",
   "execution_count": 54,
   "metadata": {},
   "outputs": [
    {
     "name": "stderr",
     "output_type": "stream",
     "text": [
      "C:\\Users\\koprl\\Anaconda3\\lib\\site-packages\\pandas\\plotting\\_converter.py:129: FutureWarning: Using an implicitly registered datetime converter for a matplotlib plotting method. The converter was registered by pandas on import. Future versions of pandas will require you to explicitly register matplotlib converters.\n",
      "\n",
      "To register the converters:\n",
      "\t>>> from pandas.plotting import register_matplotlib_converters\n",
      "\t>>> register_matplotlib_converters()\n",
      "  warnings.warn(msg, FutureWarning)\n"
     ]
    },
    {
     "data": {
      "text/plain": [
       "<matplotlib.axes._subplots.AxesSubplot at 0x2140176f2e8>"
      ]
     },
     "execution_count": 54,
     "metadata": {},
     "output_type": "execute_result"
    },
    {
     "data": {
      "image/png": "[encoded data removed]",
      "text/plain": [
       "<Figure size 432x288 with 1 Axes>"
      ]
     },
     "metadata": {
      "needs_background": "light"
     },
     "output_type": "display_data"
    }
   ],
   "source": [
    "# events in time\n",
    "events['datetime'].hist(bins=100)"
   ]
  },
  {
   "cell_type": "markdown",
   "metadata": {},
   "source": [
    "# Data processing\n",
    "\n",
    "During data processing, we excluded products with less than 20 interactions and users with less than 20 products and more than 50 products"
   ]
  },
  {
   "cell_type": "markdown",
   "metadata": {},
   "source": [
    "Sizes of raw data\n",
    "\n",
    "- User count\n",
    "- Item count\n",
    "- Evenet count"
   ]
  },
  {
   "cell_type": "code",
   "execution_count": 28,
   "metadata": {},
   "outputs": [
    {
     "name": "stdout",
     "output_type": "stream",
     "text": [
      "52739\n",
      "9249729\n",
      "(33003944, 4)\n"
     ]
    }
   ],
   "source": [
    "print(events.itemid.nunique())\n",
    "print(events.visitorid.nunique())\n",
    "print(events.shape)"
   ]
  },
  {
   "cell_type": "code",
   "execution_count": 61,
   "metadata": {},
   "outputs": [],
   "source": [
    "item_users_inter = events.groupby(\"itemid\")[\"visitorid\"].nunique()\n",
    "item_users_inter = item_users_inter[item_users_inter >= 20]\n",
    "new_events = events[events[\"itemid\"].isin(item_users_inter.index)]\n",
    "\n",
    "user_items_inter = new_events.groupby([\"visitorid\"])[\"itemid\"].nunique()\n",
    "user_items_inter = user_items_inter[(user_items_inter >= 20) & (user_items_inter <= 50)]\n",
    "new_events = new_events[new_events[\"visitorid\"].isin(user_items_inter.index)]"
   ]
  },
  {
   "cell_type": "markdown",
   "metadata": {},
   "source": [
    "Sizes of data after processing\n",
    "\n",
    "- User count\n",
    "- Item count\n",
    "- Evenet count"
   ]
  },
  {
   "cell_type": "code",
   "execution_count": 62,
   "metadata": {},
   "outputs": [
    {
     "name": "stdout",
     "output_type": "stream",
     "text": [
      "23091\n",
      "35996\n",
      "(1149969, 4)\n"
     ]
    }
   ],
   "source": [
    "print(new_events.itemid.nunique())\n",
    "print(new_events.visitorid.nunique())\n",
    "print(new_events.shape)"
   ]
  },
  {
   "cell_type": "markdown",
   "metadata": {},
   "source": [
    "Average unique items per user"
   ]
  },
  {
   "cell_type": "code",
   "execution_count": 63,
   "metadata": {},
   "outputs": [
    {
     "data": {
      "text/plain": [
       "26.6806589621069"
      ]
     },
     "execution_count": 63,
     "metadata": {},
     "output_type": "execute_result"
    }
   ],
   "source": [
    "new_events.groupby([\"visitorid\"]).itemid.nunique().mean()"
   ]
  },
  {
   "cell_type": "code",
   "execution_count": 64,
   "metadata": {},
   "outputs": [
    {
     "data": {
      "text/plain": [
       "20    0.140543\n",
       "21    0.257417\n",
       "22    0.353956\n",
       "23    0.434548\n",
       "24    0.504112\n",
       "25    0.565924\n",
       "26    0.618513\n",
       "27    0.665768\n",
       "28    0.706773\n",
       "29    0.742721\n",
       "30    0.771891\n",
       "31    0.797700\n",
       "32    0.821119\n",
       "33    0.842066\n",
       "34    0.861373\n",
       "35    0.878403\n",
       "36    0.893266\n",
       "37    0.906490\n",
       "38    0.918769\n",
       "39    0.930270\n",
       "40    0.938660\n",
       "41    0.947800\n",
       "42    0.956662\n",
       "43    0.963774\n",
       "44    0.970302\n",
       "45    0.976081\n",
       "46    0.981248\n",
       "47    0.986248\n",
       "48    0.990943\n",
       "49    0.996000\n",
       "50    1.000000\n",
       "Name: itemid, dtype: float64"
      ]
     },
     "execution_count": 64,
     "metadata": {},
     "output_type": "execute_result"
    }
   ],
   "source": [
    "# How many users interacted with 20,21,..,50 unique products?\n",
    "# Cumulative, percentual\n",
    "aux = new_events.groupby([\"visitorid\"]).itemid.nunique().value_counts().sort_index()\n",
    "(aux.cumsum() / aux.sum())"
   ]
  },
  {
   "cell_type": "code",
   "execution_count": 7,
   "metadata": {},
   "outputs": [
    {
     "name": "stderr",
     "output_type": "stream",
     "text": [
      "C:\\Users\\koprl\\Anaconda3\\lib\\site-packages\\IPython\\core\\interactiveshell.py:3214: DtypeWarning: Columns (3) have mixed types. Specify dtype option on import or set low_memory=False.\n",
      "  if (yield from self.run_code(code, result)):\n"
     ]
    }
   ],
   "source": [
    "events = load_clicks()"
   ]
  },
  {
   "cell_type": "code",
   "execution_count": 10,
   "metadata": {},
   "outputs": [
    {
     "name": "stdout",
     "output_type": "stream",
     "text": [
      "preprocessing_seq: 1000 / 35996\n",
      "preprocessing_seq: 2000 / 35996\n",
      "preprocessing_seq: 3000 / 35996\n",
      "preprocessing_seq: 4000 / 35996\n",
      "preprocessing_seq: 5000 / 35996\n",
      "preprocessing_seq: 6000 / 35996\n",
      "preprocessing_seq: 7000 / 35996\n",
      "preprocessing_seq: 8000 / 35996\n",
      "preprocessing_seq: 9000 / 35996\n",
      "preprocessing_seq: 10000 / 35996\n",
      "preprocessing_seq: 11000 / 35996\n",
      "preprocessing_seq: 12000 / 35996\n",
      "preprocessing_seq: 13000 / 35996\n",
      "preprocessing_seq: 14000 / 35996\n",
      "preprocessing_seq: 15000 / 35996\n",
      "preprocessing_seq: 16000 / 35996\n",
      "preprocessing_seq: 17000 / 35996\n",
      "preprocessing_seq: 18000 / 35996\n",
      "preprocessing_seq: 19000 / 35996\n",
      "preprocessing_seq: 20000 / 35996\n",
      "preprocessing_seq: 21000 / 35996\n",
      "preprocessing_seq: 22000 / 35996\n",
      "preprocessing_seq: 23000 / 35996\n",
      "preprocessing_seq: 24000 / 35996\n",
      "preprocessing_seq: 25000 / 35996\n",
      "preprocessing_seq: 26000 / 35996\n",
      "preprocessing_seq: 27000 / 35996\n",
      "preprocessing_seq: 28000 / 35996\n",
      "preprocessing_seq: 29000 / 35996\n",
      "preprocessing_seq: 30000 / 35996\n",
      "preprocessing_seq: 31000 / 35996\n",
      "preprocessing_seq: 32000 / 35996\n",
      "preprocessing_seq: 33000 / 35996\n",
      "preprocessing_seq: 34000 / 35996\n",
      "preprocessing_seq: 35000 / 35996\n",
      "pad_sequences\n",
      "preprocessing_pred: 1000 / 35996\n",
      "preprocessing_pred: 2000 / 35996\n",
      "preprocessing_pred: 3000 / 35996\n",
      "preprocessing_pred: 4000 / 35996\n",
      "preprocessing_pred: 5000 / 35996\n",
      "preprocessing_pred: 6000 / 35996\n",
      "preprocessing_pred: 7000 / 35996\n",
      "preprocessing_pred: 8000 / 35996\n",
      "preprocessing_pred: 9000 / 35996\n",
      "preprocessing_pred: 10000 / 35996\n",
      "preprocessing_pred: 11000 / 35996\n",
      "preprocessing_pred: 12000 / 35996\n",
      "preprocessing_pred: 13000 / 35996\n",
      "preprocessing_pred: 14000 / 35996\n",
      "preprocessing_pred: 15000 / 35996\n",
      "preprocessing_pred: 16000 / 35996\n",
      "preprocessing_pred: 17000 / 35996\n",
      "preprocessing_pred: 18000 / 35996\n",
      "preprocessing_pred: 19000 / 35996\n",
      "preprocessing_pred: 20000 / 35996\n",
      "preprocessing_pred: 21000 / 35996\n",
      "preprocessing_pred: 22000 / 35996\n",
      "preprocessing_pred: 23000 / 35996\n",
      "preprocessing_pred: 24000 / 35996\n",
      "preprocessing_pred: 25000 / 35996\n",
      "preprocessing_pred: 26000 / 35996\n",
      "preprocessing_pred: 27000 / 35996\n",
      "preprocessing_pred: 28000 / 35996\n",
      "preprocessing_pred: 29000 / 35996\n",
      "preprocessing_pred: 30000 / 35996\n",
      "preprocessing_pred: 31000 / 35996\n",
      "preprocessing_pred: 32000 / 35996\n",
      "preprocessing_pred: 33000 / 35996\n",
      "preprocessing_pred: 34000 / 35996\n",
      "preprocessing_pred: 35000 / 35996\n"
     ]
    }
   ],
   "source": [
    "data_x,data_y = preprocessing(events,\"visitorid\",\"itemid\",min_items_user=20,max_items_user=50,min_interaction_item=20,verbose=1,sparse=False)"
   ]
  },
  {
   "cell_type": "code",
   "execution_count": 11,
   "metadata": {},
   "outputs": [],
   "source": [
    "save_processed(data_x,data_y)"
   ]
  },
  {
   "cell_type": "code",
   "execution_count": 9,
   "metadata": {},
   "outputs": [],
   "source": [
    "save_processed_sparse(data_x,data_y)"
   ]
  }
 ],
 "metadata": {
  "kernelspec": {
   "display_name": "Python 3",
   "language": "python",
   "name": "python3"
  },
  "language_info": {
   "codemirror_mode": {
    "name": "ipython",
    "version": 3
   },
   "file_extension": ".py",
   "mimetype": "text/x-python",
   "name": "python",
   "nbconvert_exporter": "python",
   "pygments_lexer": "ipython3",
   "version": "3.7.3"
  }
 },
 "nbformat": 4,
 "nbformat_minor": 2
}
